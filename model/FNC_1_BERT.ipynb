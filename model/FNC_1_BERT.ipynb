{
  "nbformat": 4,
  "nbformat_minor": 0,
  "metadata": {
    "colab": {
      "name": "FNC-1-BERT.ipynb",
      "provenance": [],
      "collapsed_sections": []
    },
    "kernelspec": {
      "name": "python3",
      "display_name": "Python 3"
    },
    "accelerator": "TPU"
  },
  "cells": [
    {
      "cell_type": "markdown",
      "metadata": {
        "id": "bmsv_eb9WBpt",
        "colab_type": "text"
      },
      "source": [
        "References for this notebook:\n",
        "https://colab.research.google.com/github/tensorflow/tpu/blob/master/tools/colab/bert_finetuning_with_cloud_tpus.ipynb#scrollTo=IhdjgZWAZ60C\n",
        "\n",
        "https://colab.research.google.com/drive/1WS9nvv90icltoGBa87BNZeAPjEV0qn2T#scrollTo=1wtjs1QDb3DX\n",
        "\n",
        "https://colab.research.google.com/github/tensorflow/models/blob/master/official/colab/fine_tuning_bert.ipynb"
      ]
    },
    {
      "cell_type": "markdown",
      "metadata": {
        "id": "EXog396zoN_1",
        "colab_type": "text"
      },
      "source": [
        "Good resources to learn:\n",
        "http://jalammar.github.io/illustrated-bert/\n",
        "\n",
        "https://towardsdatascience.com/bert-explained-state-of-the-art-language-model-for-nlp-f8b21a9b6270\n",
        "\n",
        "https://yashuseth.blog/2019/06/12/bert-explained-faqs-understand-bert-working/\n",
        "\n",
        "https://jalammar.github.io/illustrated-transformer/\n",
        "\n",
        "https://arxiv.org/pdf/1706.03762.pdf\n",
        "\n",
        "https://arxiv.org/pdf/1810.04805.pdf"
      ]
    },
    {
      "cell_type": "markdown",
      "metadata": {
        "id": "26aAaRXtNs7U",
        "colab_type": "text"
      },
      "source": [
        "# **Set up your TPU environment**\n",
        "\n"
      ]
    },
    {
      "cell_type": "code",
      "metadata": {
        "id": "K741kOcO-Hj-",
        "colab_type": "code",
        "colab": {
          "base_uri": "https://localhost:8080/",
          "height": 745
        },
        "outputId": "d1065431-3df4-4ce6-a565-b26d9e636a9a"
      },
      "source": [
        "import os, sys, json\n",
        "import tensorflow as tf\n",
        "import tensorflow_gcs_config\n",
        "\n",
        "# set up TPU strategy\n",
        "assert 'COLAB_TPU_ADDR' in os.environ, 'ERROR: Not connected to a TPU runtime; please see the first cell in this notebook for instructions!'\n",
        "TPU_ADDRESS = 'grpc://' + os.environ['COLAB_TPU_ADDR']\n",
        "tpu = tf.distribute.cluster_resolver.TPUClusterResolver()  # TPU detection\n",
        "tf.config.experimental_connect_to_cluster(tpu)\n",
        "tf.tpu.experimental.initialize_tpu_system(tpu)\n",
        "tpu_strategy = tf.distribute.experimental.TPUStrategy(tpu)"
      ],
      "execution_count": null,
      "outputs": [
        {
          "output_type": "stream",
          "text": [
            "INFO:tensorflow:Initializing the TPU system: grpc://10.90.59.10:8470\n"
          ],
          "name": "stdout"
        },
        {
          "output_type": "stream",
          "text": [
            "INFO:tensorflow:Initializing the TPU system: grpc://10.90.59.10:8470\n"
          ],
          "name": "stderr"
        },
        {
          "output_type": "stream",
          "text": [
            "INFO:tensorflow:Clearing out eager caches\n"
          ],
          "name": "stdout"
        },
        {
          "output_type": "stream",
          "text": [
            "INFO:tensorflow:Clearing out eager caches\n"
          ],
          "name": "stderr"
        },
        {
          "output_type": "stream",
          "text": [
            "INFO:tensorflow:Finished initializing TPU system.\n"
          ],
          "name": "stdout"
        },
        {
          "output_type": "stream",
          "text": [
            "INFO:tensorflow:Finished initializing TPU system.\n"
          ],
          "name": "stderr"
        },
        {
          "output_type": "stream",
          "text": [
            "INFO:tensorflow:Found TPU system:\n"
          ],
          "name": "stdout"
        },
        {
          "output_type": "stream",
          "text": [
            "INFO:tensorflow:Found TPU system:\n"
          ],
          "name": "stderr"
        },
        {
          "output_type": "stream",
          "text": [
            "INFO:tensorflow:*** Num TPU Cores: 8\n"
          ],
          "name": "stdout"
        },
        {
          "output_type": "stream",
          "text": [
            "INFO:tensorflow:*** Num TPU Cores: 8\n"
          ],
          "name": "stderr"
        },
        {
          "output_type": "stream",
          "text": [
            "INFO:tensorflow:*** Num TPU Workers: 1\n"
          ],
          "name": "stdout"
        },
        {
          "output_type": "stream",
          "text": [
            "INFO:tensorflow:*** Num TPU Workers: 1\n"
          ],
          "name": "stderr"
        },
        {
          "output_type": "stream",
          "text": [
            "INFO:tensorflow:*** Num TPU Cores Per Worker: 8\n"
          ],
          "name": "stdout"
        },
        {
          "output_type": "stream",
          "text": [
            "INFO:tensorflow:*** Num TPU Cores Per Worker: 8\n"
          ],
          "name": "stderr"
        },
        {
          "output_type": "stream",
          "text": [
            "INFO:tensorflow:*** Available Device: _DeviceAttributes(/job:localhost/replica:0/task:0/device:CPU:0, CPU, 0, 0)\n"
          ],
          "name": "stdout"
        },
        {
          "output_type": "stream",
          "text": [
            "INFO:tensorflow:*** Available Device: _DeviceAttributes(/job:localhost/replica:0/task:0/device:CPU:0, CPU, 0, 0)\n"
          ],
          "name": "stderr"
        },
        {
          "output_type": "stream",
          "text": [
            "INFO:tensorflow:*** Available Device: _DeviceAttributes(/job:localhost/replica:0/task:0/device:XLA_CPU:0, XLA_CPU, 0, 0)\n"
          ],
          "name": "stdout"
        },
        {
          "output_type": "stream",
          "text": [
            "INFO:tensorflow:*** Available Device: _DeviceAttributes(/job:localhost/replica:0/task:0/device:XLA_CPU:0, XLA_CPU, 0, 0)\n"
          ],
          "name": "stderr"
        },
        {
          "output_type": "stream",
          "text": [
            "INFO:tensorflow:*** Available Device: _DeviceAttributes(/job:worker/replica:0/task:0/device:CPU:0, CPU, 0, 0)\n"
          ],
          "name": "stdout"
        },
        {
          "output_type": "stream",
          "text": [
            "INFO:tensorflow:*** Available Device: _DeviceAttributes(/job:worker/replica:0/task:0/device:CPU:0, CPU, 0, 0)\n"
          ],
          "name": "stderr"
        },
        {
          "output_type": "stream",
          "text": [
            "INFO:tensorflow:*** Available Device: _DeviceAttributes(/job:worker/replica:0/task:0/device:TPU:0, TPU, 0, 0)\n"
          ],
          "name": "stdout"
        },
        {
          "output_type": "stream",
          "text": [
            "INFO:tensorflow:*** Available Device: _DeviceAttributes(/job:worker/replica:0/task:0/device:TPU:0, TPU, 0, 0)\n"
          ],
          "name": "stderr"
        },
        {
          "output_type": "stream",
          "text": [
            "INFO:tensorflow:*** Available Device: _DeviceAttributes(/job:worker/replica:0/task:0/device:TPU:1, TPU, 0, 0)\n"
          ],
          "name": "stdout"
        },
        {
          "output_type": "stream",
          "text": [
            "INFO:tensorflow:*** Available Device: _DeviceAttributes(/job:worker/replica:0/task:0/device:TPU:1, TPU, 0, 0)\n"
          ],
          "name": "stderr"
        },
        {
          "output_type": "stream",
          "text": [
            "INFO:tensorflow:*** Available Device: _DeviceAttributes(/job:worker/replica:0/task:0/device:TPU:2, TPU, 0, 0)\n"
          ],
          "name": "stdout"
        },
        {
          "output_type": "stream",
          "text": [
            "INFO:tensorflow:*** Available Device: _DeviceAttributes(/job:worker/replica:0/task:0/device:TPU:2, TPU, 0, 0)\n"
          ],
          "name": "stderr"
        },
        {
          "output_type": "stream",
          "text": [
            "INFO:tensorflow:*** Available Device: _DeviceAttributes(/job:worker/replica:0/task:0/device:TPU:3, TPU, 0, 0)\n"
          ],
          "name": "stdout"
        },
        {
          "output_type": "stream",
          "text": [
            "INFO:tensorflow:*** Available Device: _DeviceAttributes(/job:worker/replica:0/task:0/device:TPU:3, TPU, 0, 0)\n"
          ],
          "name": "stderr"
        },
        {
          "output_type": "stream",
          "text": [
            "INFO:tensorflow:*** Available Device: _DeviceAttributes(/job:worker/replica:0/task:0/device:TPU:4, TPU, 0, 0)\n"
          ],
          "name": "stdout"
        },
        {
          "output_type": "stream",
          "text": [
            "INFO:tensorflow:*** Available Device: _DeviceAttributes(/job:worker/replica:0/task:0/device:TPU:4, TPU, 0, 0)\n"
          ],
          "name": "stderr"
        },
        {
          "output_type": "stream",
          "text": [
            "INFO:tensorflow:*** Available Device: _DeviceAttributes(/job:worker/replica:0/task:0/device:TPU:5, TPU, 0, 0)\n"
          ],
          "name": "stdout"
        },
        {
          "output_type": "stream",
          "text": [
            "INFO:tensorflow:*** Available Device: _DeviceAttributes(/job:worker/replica:0/task:0/device:TPU:5, TPU, 0, 0)\n"
          ],
          "name": "stderr"
        },
        {
          "output_type": "stream",
          "text": [
            "INFO:tensorflow:*** Available Device: _DeviceAttributes(/job:worker/replica:0/task:0/device:TPU:6, TPU, 0, 0)\n"
          ],
          "name": "stdout"
        },
        {
          "output_type": "stream",
          "text": [
            "INFO:tensorflow:*** Available Device: _DeviceAttributes(/job:worker/replica:0/task:0/device:TPU:6, TPU, 0, 0)\n"
          ],
          "name": "stderr"
        },
        {
          "output_type": "stream",
          "text": [
            "INFO:tensorflow:*** Available Device: _DeviceAttributes(/job:worker/replica:0/task:0/device:TPU:7, TPU, 0, 0)\n"
          ],
          "name": "stdout"
        },
        {
          "output_type": "stream",
          "text": [
            "INFO:tensorflow:*** Available Device: _DeviceAttributes(/job:worker/replica:0/task:0/device:TPU:7, TPU, 0, 0)\n"
          ],
          "name": "stderr"
        },
        {
          "output_type": "stream",
          "text": [
            "INFO:tensorflow:*** Available Device: _DeviceAttributes(/job:worker/replica:0/task:0/device:TPU_SYSTEM:0, TPU_SYSTEM, 0, 0)\n"
          ],
          "name": "stdout"
        },
        {
          "output_type": "stream",
          "text": [
            "INFO:tensorflow:*** Available Device: _DeviceAttributes(/job:worker/replica:0/task:0/device:TPU_SYSTEM:0, TPU_SYSTEM, 0, 0)\n"
          ],
          "name": "stderr"
        },
        {
          "output_type": "stream",
          "text": [
            "INFO:tensorflow:*** Available Device: _DeviceAttributes(/job:worker/replica:0/task:0/device:XLA_CPU:0, XLA_CPU, 0, 0)\n"
          ],
          "name": "stdout"
        },
        {
          "output_type": "stream",
          "text": [
            "INFO:tensorflow:*** Available Device: _DeviceAttributes(/job:worker/replica:0/task:0/device:XLA_CPU:0, XLA_CPU, 0, 0)\n"
          ],
          "name": "stderr"
        }
      ]
    },
    {
      "cell_type": "markdown",
      "metadata": {
        "id": "Nm4SIBmBWrls",
        "colab_type": "text"
      },
      "source": [
        "# **Clone Repository**"
      ]
    },
    {
      "cell_type": "code",
      "metadata": {
        "id": "BANr9Bx0nKSj",
        "colab_type": "code",
        "colab": {
          "base_uri": "https://localhost:8080/",
          "height": 90
        },
        "outputId": "abe2547f-a106-4beb-f612-2fb8bebdae6a"
      },
      "source": [
        "!git clone https://github.com/FakeNewsChallenge/fnc-1"
      ],
      "execution_count": null,
      "outputs": [
        {
          "output_type": "stream",
          "text": [
            "Cloning into 'fnc-1'...\n",
            "remote: Enumerating objects: 49, done.\u001b[K\n",
            "remote: Total 49 (delta 0), reused 0 (delta 0), pack-reused 49\u001b[K\n",
            "Unpacking objects: 100% (49/49), done.\n"
          ],
          "name": "stdout"
        }
      ]
    },
    {
      "cell_type": "code",
      "metadata": {
        "id": "sWbkimyWnj3J",
        "colab_type": "code",
        "colab": {
          "base_uri": "https://localhost:8080/",
          "height": 35
        },
        "outputId": "6f2be44f-9308-4001-a310-4f97ac06986c"
      },
      "source": [
        "%cd fnc-1"
      ],
      "execution_count": null,
      "outputs": [
        {
          "output_type": "stream",
          "text": [
            "/content/fnc-1\n"
          ],
          "name": "stdout"
        }
      ]
    },
    {
      "cell_type": "code",
      "metadata": {
        "id": "utol8nB6P_3k",
        "colab_type": "code",
        "colab": {
          "base_uri": "https://localhost:8080/",
          "height": 1000
        },
        "outputId": "1fdddd48-5cb3-4380-f535-78a784c0f3a4"
      },
      "source": [
        "!pip install -q tf-models-official==2.3.0\n",
        "# !pip install -q tensorflow==2.3.0\n",
        "# !pip install -q tf-models-nightly\n",
        "# !pip install -q tf-nightly"
      ],
      "execution_count": null,
      "outputs": [
        {
          "output_type": "stream",
          "text": [
            "Collecting tf-models-official==2.2.0\n",
            "\u001b[?25l  Downloading https://files.pythonhosted.org/packages/4e/32/9b0eed5eb5bc9aff9e4d3ae27b0f17aded1f66fc95c6e75f1405c68bd379/tf_models_official-2.2.0-py2.py3-none-any.whl (711kB)\n",
            "\u001b[K     |████████████████████████████████| 716kB 3.4MB/s \n",
            "\u001b[?25hRequirement already satisfied: matplotlib in /usr/local/lib/python3.6/dist-packages (from tf-models-official==2.2.0) (3.2.2)\n",
            "Requirement already satisfied: gin-config in /usr/local/lib/python3.6/dist-packages (from tf-models-official==2.2.0) (0.3.0)\n",
            "Requirement already satisfied: scipy>=0.19.1 in /usr/local/lib/python3.6/dist-packages (from tf-models-official==2.2.0) (1.4.1)\n",
            "Requirement already satisfied: google-cloud-bigquery>=0.31.0 in /usr/local/lib/python3.6/dist-packages (from tf-models-official==2.2.0) (1.21.0)\n",
            "Requirement already satisfied: psutil>=5.4.3 in /usr/local/lib/python3.6/dist-packages (from tf-models-official==2.2.0) (5.4.8)\n",
            "Requirement already satisfied: oauth2client>=4.1.2 in /usr/local/lib/python3.6/dist-packages (from tf-models-official==2.2.0) (4.1.3)\n",
            "Collecting mlperf-compliance==0.0.10\n",
            "  Downloading https://files.pythonhosted.org/packages/f4/08/f2febd8cbd5c9371f7dab311e90400d83238447ba7609b3bf0145b4cb2a2/mlperf_compliance-0.0.10-py3-none-any.whl\n",
            "Collecting sentencepiece\n",
            "\u001b[?25l  Downloading https://files.pythonhosted.org/packages/d4/a4/d0a884c4300004a78cca907a6ff9a5e9fe4f090f5d95ab341c53d28cbc58/sentencepiece-0.1.91-cp36-cp36m-manylinux1_x86_64.whl (1.1MB)\n",
            "\u001b[K     |████████████████████████████████| 1.1MB 11.7MB/s \n",
            "\u001b[?25hCollecting tensorflow-model-optimization>=0.2.1\n",
            "\u001b[?25l  Downloading https://files.pythonhosted.org/packages/c8/4a/003e16e17c274dd09c81b224b226cdc9902309b905c62a50ebdd0cd12e6d/tensorflow_model_optimization-0.4.0-py2.py3-none-any.whl (169kB)\n",
            "\u001b[K     |████████████████████████████████| 174kB 23.2MB/s \n",
            "\u001b[?25hRequirement already satisfied: kaggle>=1.3.9 in /usr/local/lib/python3.6/dist-packages (from tf-models-official==2.2.0) (1.5.6)\n",
            "Collecting opencv-python-headless\n",
            "\u001b[?25l  Downloading https://files.pythonhosted.org/packages/17/e4/a98a3c3098ea55b6ae193a1cd19a221dc3c1bde87a36db5550addc879d36/opencv_python_headless-4.3.0.36-cp36-cp36m-manylinux2014_x86_64.whl (36.4MB)\n",
            "\u001b[K     |████████████████████████████████| 36.4MB 119kB/s \n",
            "\u001b[?25hRequirement already satisfied: numpy>=1.15.4 in /usr/local/lib/python3.6/dist-packages (from tf-models-official==2.2.0) (1.18.5)\n",
            "Requirement already satisfied: Cython in /usr/local/lib/python3.6/dist-packages (from tf-models-official==2.2.0) (0.29.21)\n",
            "Requirement already satisfied: tensorflow-datasets in /usr/local/lib/python3.6/dist-packages (from tf-models-official==2.2.0) (2.1.0)\n",
            "Requirement already satisfied: tensorflow-hub>=0.6.0 in /usr/local/lib/python3.6/dist-packages (from tf-models-official==2.2.0) (0.8.0)\n",
            "Requirement already satisfied: pandas>=0.22.0 in /usr/local/lib/python3.6/dist-packages (from tf-models-official==2.2.0) (1.0.5)\n",
            "Requirement already satisfied: tensorflow-addons in /usr/local/lib/python3.6/dist-packages (from tf-models-official==2.2.0) (0.8.3)\n",
            "Requirement already satisfied: six in /usr/local/lib/python3.6/dist-packages (from tf-models-official==2.2.0) (1.15.0)\n",
            "Collecting typing\n",
            "\u001b[?25l  Downloading https://files.pythonhosted.org/packages/05/d9/6eebe19d46bd05360c9a9aae822e67a80f9242aabbfc58b641b957546607/typing-3.7.4.3.tar.gz (78kB)\n",
            "\u001b[K     |████████████████████████████████| 81kB 8.0MB/s \n",
            "\u001b[?25hRequirement already satisfied: pyyaml in /usr/local/lib/python3.6/dist-packages (from tf-models-official==2.2.0) (3.13)\n",
            "Requirement already satisfied: google-api-python-client>=1.6.7 in /usr/local/lib/python3.6/dist-packages (from tf-models-official==2.2.0) (1.7.12)\n",
            "Requirement already satisfied: dataclasses in /usr/local/lib/python3.6/dist-packages (from tf-models-official==2.2.0) (0.7)\n",
            "Collecting py-cpuinfo>=3.3.0\n",
            "\u001b[?25l  Downloading https://files.pythonhosted.org/packages/f6/f5/8e6e85ce2e9f6e05040cf0d4e26f43a4718bcc4bce988b433276d4b1a5c1/py-cpuinfo-7.0.0.tar.gz (95kB)\n",
            "\u001b[K     |████████████████████████████████| 102kB 10.3MB/s \n",
            "\u001b[?25hRequirement already satisfied: Pillow in /usr/local/lib/python3.6/dist-packages (from tf-models-official==2.2.0) (7.0.0)\n",
            "Requirement already satisfied: tensorflow>=2.2.0 in /usr/local/lib/python3.6/dist-packages (from tf-models-official==2.2.0) (2.2.0)\n",
            "Requirement already satisfied: python-dateutil>=2.1 in /usr/local/lib/python3.6/dist-packages (from matplotlib->tf-models-official==2.2.0) (2.8.1)\n",
            "Requirement already satisfied: pyparsing!=2.0.4,!=2.1.2,!=2.1.6,>=2.0.1 in /usr/local/lib/python3.6/dist-packages (from matplotlib->tf-models-official==2.2.0) (2.4.7)\n",
            "Requirement already satisfied: cycler>=0.10 in /usr/local/lib/python3.6/dist-packages (from matplotlib->tf-models-official==2.2.0) (0.10.0)\n",
            "Requirement already satisfied: kiwisolver>=1.0.1 in /usr/local/lib/python3.6/dist-packages (from matplotlib->tf-models-official==2.2.0) (1.2.0)\n",
            "Requirement already satisfied: google-resumable-media!=0.4.0,<0.5.0dev,>=0.3.1 in /usr/local/lib/python3.6/dist-packages (from google-cloud-bigquery>=0.31.0->tf-models-official==2.2.0) (0.4.1)\n",
            "Requirement already satisfied: protobuf>=3.6.0 in /usr/local/lib/python3.6/dist-packages (from google-cloud-bigquery>=0.31.0->tf-models-official==2.2.0) (3.12.2)\n",
            "Requirement already satisfied: google-cloud-core<2.0dev,>=1.0.3 in /usr/local/lib/python3.6/dist-packages (from google-cloud-bigquery>=0.31.0->tf-models-official==2.2.0) (1.0.3)\n",
            "Requirement already satisfied: pyasn1>=0.1.7 in /usr/local/lib/python3.6/dist-packages (from oauth2client>=4.1.2->tf-models-official==2.2.0) (0.4.8)\n",
            "Requirement already satisfied: pyasn1-modules>=0.0.5 in /usr/local/lib/python3.6/dist-packages (from oauth2client>=4.1.2->tf-models-official==2.2.0) (0.2.8)\n",
            "Requirement already satisfied: httplib2>=0.9.1 in /usr/local/lib/python3.6/dist-packages (from oauth2client>=4.1.2->tf-models-official==2.2.0) (0.17.4)\n",
            "Requirement already satisfied: rsa>=3.1.4 in /usr/local/lib/python3.6/dist-packages (from oauth2client>=4.1.2->tf-models-official==2.2.0) (4.6)\n",
            "Collecting dm-tree~=0.1.1\n",
            "\u001b[?25l  Downloading https://files.pythonhosted.org/packages/16/48/10fb721334810081b7e6eebeba0d12e12126c76993e8c243062d2f56a89f/dm_tree-0.1.5-cp36-cp36m-manylinux1_x86_64.whl (294kB)\n",
            "\u001b[K     |████████████████████████████████| 296kB 51.4MB/s \n",
            "\u001b[?25hRequirement already satisfied: tqdm in /usr/local/lib/python3.6/dist-packages (from kaggle>=1.3.9->tf-models-official==2.2.0) (4.41.1)\n",
            "Requirement already satisfied: certifi in /usr/local/lib/python3.6/dist-packages (from kaggle>=1.3.9->tf-models-official==2.2.0) (2020.6.20)\n",
            "Requirement already satisfied: requests in /usr/local/lib/python3.6/dist-packages (from kaggle>=1.3.9->tf-models-official==2.2.0) (2.23.0)\n",
            "Requirement already satisfied: python-slugify in /usr/local/lib/python3.6/dist-packages (from kaggle>=1.3.9->tf-models-official==2.2.0) (4.0.1)\n",
            "Requirement already satisfied: urllib3<1.25,>=1.21.1 in /usr/local/lib/python3.6/dist-packages (from kaggle>=1.3.9->tf-models-official==2.2.0) (1.24.3)\n",
            "Requirement already satisfied: future in /usr/local/lib/python3.6/dist-packages (from tensorflow-datasets->tf-models-official==2.2.0) (0.16.0)\n",
            "Requirement already satisfied: tensorflow-metadata in /usr/local/lib/python3.6/dist-packages (from tensorflow-datasets->tf-models-official==2.2.0) (0.22.2)\n",
            "Requirement already satisfied: promise in /usr/local/lib/python3.6/dist-packages (from tensorflow-datasets->tf-models-official==2.2.0) (2.3)\n",
            "Requirement already satisfied: termcolor in /usr/local/lib/python3.6/dist-packages (from tensorflow-datasets->tf-models-official==2.2.0) (1.1.0)\n",
            "Requirement already satisfied: wrapt in /usr/local/lib/python3.6/dist-packages (from tensorflow-datasets->tf-models-official==2.2.0) (1.12.1)\n",
            "Requirement already satisfied: attrs>=18.1.0 in /usr/local/lib/python3.6/dist-packages (from tensorflow-datasets->tf-models-official==2.2.0) (19.3.0)\n",
            "Requirement already satisfied: dill in /usr/local/lib/python3.6/dist-packages (from tensorflow-datasets->tf-models-official==2.2.0) (0.3.2)\n",
            "Requirement already satisfied: absl-py in /usr/local/lib/python3.6/dist-packages (from tensorflow-datasets->tf-models-official==2.2.0) (0.9.0)\n",
            "Requirement already satisfied: pytz>=2017.2 in /usr/local/lib/python3.6/dist-packages (from pandas>=0.22.0->tf-models-official==2.2.0) (2018.9)\n",
            "Requirement already satisfied: typeguard in /usr/local/lib/python3.6/dist-packages (from tensorflow-addons->tf-models-official==2.2.0) (2.7.1)\n",
            "Requirement already satisfied: google-auth-httplib2>=0.0.3 in /usr/local/lib/python3.6/dist-packages (from google-api-python-client>=1.6.7->tf-models-official==2.2.0) (0.0.4)\n",
            "Requirement already satisfied: google-auth>=1.4.1 in /usr/local/lib/python3.6/dist-packages (from google-api-python-client>=1.6.7->tf-models-official==2.2.0) (1.17.2)\n",
            "Requirement already satisfied: uritemplate<4dev,>=3.0.0 in /usr/local/lib/python3.6/dist-packages (from google-api-python-client>=1.6.7->tf-models-official==2.2.0) (3.0.1)\n",
            "Requirement already satisfied: keras-preprocessing>=1.1.0 in /usr/local/lib/python3.6/dist-packages (from tensorflow>=2.2.0->tf-models-official==2.2.0) (1.1.2)\n",
            "Requirement already satisfied: gast==0.3.3 in /usr/local/lib/python3.6/dist-packages (from tensorflow>=2.2.0->tf-models-official==2.2.0) (0.3.3)\n",
            "Requirement already satisfied: tensorflow-estimator<2.3.0,>=2.2.0 in /usr/local/lib/python3.6/dist-packages (from tensorflow>=2.2.0->tf-models-official==2.2.0) (2.2.0)\n",
            "Requirement already satisfied: wheel>=0.26; python_version >= \"3\" in /usr/local/lib/python3.6/dist-packages (from tensorflow>=2.2.0->tf-models-official==2.2.0) (0.34.2)\n",
            "Requirement already satisfied: h5py<2.11.0,>=2.10.0 in /usr/local/lib/python3.6/dist-packages (from tensorflow>=2.2.0->tf-models-official==2.2.0) (2.10.0)\n",
            "Requirement already satisfied: tensorboard<2.3.0,>=2.2.0 in /usr/local/lib/python3.6/dist-packages (from tensorflow>=2.2.0->tf-models-official==2.2.0) (2.2.2)\n",
            "Requirement already satisfied: opt-einsum>=2.3.2 in /usr/local/lib/python3.6/dist-packages (from tensorflow>=2.2.0->tf-models-official==2.2.0) (3.3.0)\n",
            "Requirement already satisfied: google-pasta>=0.1.8 in /usr/local/lib/python3.6/dist-packages (from tensorflow>=2.2.0->tf-models-official==2.2.0) (0.2.0)\n",
            "Requirement already satisfied: astunparse==1.6.3 in /usr/local/lib/python3.6/dist-packages (from tensorflow>=2.2.0->tf-models-official==2.2.0) (1.6.3)\n",
            "Requirement already satisfied: grpcio>=1.8.6 in /usr/local/lib/python3.6/dist-packages (from tensorflow>=2.2.0->tf-models-official==2.2.0) (1.30.0)\n",
            "Requirement already satisfied: setuptools in /usr/local/lib/python3.6/dist-packages (from protobuf>=3.6.0->google-cloud-bigquery>=0.31.0->tf-models-official==2.2.0) (49.2.0)\n",
            "Requirement already satisfied: google-api-core<2.0.0dev,>=1.14.0 in /usr/local/lib/python3.6/dist-packages (from google-cloud-core<2.0dev,>=1.0.3->google-cloud-bigquery>=0.31.0->tf-models-official==2.2.0) (1.16.0)\n",
            "Requirement already satisfied: chardet<4,>=3.0.2 in /usr/local/lib/python3.6/dist-packages (from requests->kaggle>=1.3.9->tf-models-official==2.2.0) (3.0.4)\n",
            "Requirement already satisfied: idna<3,>=2.5 in /usr/local/lib/python3.6/dist-packages (from requests->kaggle>=1.3.9->tf-models-official==2.2.0) (2.10)\n",
            "Requirement already satisfied: text-unidecode>=1.3 in /usr/local/lib/python3.6/dist-packages (from python-slugify->kaggle>=1.3.9->tf-models-official==2.2.0) (1.3)\n",
            "Requirement already satisfied: googleapis-common-protos in /usr/local/lib/python3.6/dist-packages (from tensorflow-metadata->tensorflow-datasets->tf-models-official==2.2.0) (1.52.0)\n",
            "Requirement already satisfied: cachetools<5.0,>=2.0.0 in /usr/local/lib/python3.6/dist-packages (from google-auth>=1.4.1->google-api-python-client>=1.6.7->tf-models-official==2.2.0) (4.1.1)\n",
            "Requirement already satisfied: markdown>=2.6.8 in /usr/local/lib/python3.6/dist-packages (from tensorboard<2.3.0,>=2.2.0->tensorflow>=2.2.0->tf-models-official==2.2.0) (3.2.2)\n",
            "Requirement already satisfied: tensorboard-plugin-wit>=1.6.0 in /usr/local/lib/python3.6/dist-packages (from tensorboard<2.3.0,>=2.2.0->tensorflow>=2.2.0->tf-models-official==2.2.0) (1.7.0)\n",
            "Requirement already satisfied: werkzeug>=0.11.15 in /usr/local/lib/python3.6/dist-packages (from tensorboard<2.3.0,>=2.2.0->tensorflow>=2.2.0->tf-models-official==2.2.0) (1.0.1)\n",
            "Requirement already satisfied: google-auth-oauthlib<0.5,>=0.4.1 in /usr/local/lib/python3.6/dist-packages (from tensorboard<2.3.0,>=2.2.0->tensorflow>=2.2.0->tf-models-official==2.2.0) (0.4.1)\n",
            "Requirement already satisfied: importlib-metadata; python_version < \"3.8\" in /usr/local/lib/python3.6/dist-packages (from markdown>=2.6.8->tensorboard<2.3.0,>=2.2.0->tensorflow>=2.2.0->tf-models-official==2.2.0) (1.7.0)\n",
            "Requirement already satisfied: requests-oauthlib>=0.7.0 in /usr/local/lib/python3.6/dist-packages (from google-auth-oauthlib<0.5,>=0.4.1->tensorboard<2.3.0,>=2.2.0->tensorflow>=2.2.0->tf-models-official==2.2.0) (1.3.0)\n",
            "Requirement already satisfied: zipp>=0.5 in /usr/local/lib/python3.6/dist-packages (from importlib-metadata; python_version < \"3.8\"->markdown>=2.6.8->tensorboard<2.3.0,>=2.2.0->tensorflow>=2.2.0->tf-models-official==2.2.0) (3.1.0)\n",
            "Requirement already satisfied: oauthlib>=3.0.0 in /usr/local/lib/python3.6/dist-packages (from requests-oauthlib>=0.7.0->google-auth-oauthlib<0.5,>=0.4.1->tensorboard<2.3.0,>=2.2.0->tensorflow>=2.2.0->tf-models-official==2.2.0) (3.1.0)\n",
            "Building wheels for collected packages: typing, py-cpuinfo\n",
            "  Building wheel for typing (setup.py) ... \u001b[?25l\u001b[?25hdone\n",
            "  Created wheel for typing: filename=typing-3.7.4.3-cp36-none-any.whl size=26309 sha256=b02cb7ab630fd3f16b55520de84af1c98ae02b8e8dbc899871ca410f8f4f8130\n",
            "  Stored in directory: /root/.cache/pip/wheels/2d/04/41/8e1836e79581989c22eebac3f4e70aaac9af07b0908da173be\n",
            "  Building wheel for py-cpuinfo (setup.py) ... \u001b[?25l\u001b[?25hdone\n",
            "  Created wheel for py-cpuinfo: filename=py_cpuinfo-7.0.0-cp36-none-any.whl size=20069 sha256=76c9a3378077e9389176eb091ba1a149d428ac462bf7a3bdb78b5ea35f5d6de0\n",
            "  Stored in directory: /root/.cache/pip/wheels/f1/93/7b/127daf0c3a5a49feb2fecd468d508067c733fba5192f726ad1\n",
            "Successfully built typing py-cpuinfo\n",
            "Installing collected packages: mlperf-compliance, sentencepiece, dm-tree, tensorflow-model-optimization, opencv-python-headless, typing, py-cpuinfo, tf-models-official\n",
            "Successfully installed dm-tree-0.1.5 mlperf-compliance-0.0.10 opencv-python-headless-4.3.0.36 py-cpuinfo-7.0.0 sentencepiece-0.1.91 tensorflow-model-optimization-0.4.0 tf-models-official-2.2.0 typing-3.7.4.3\n"
          ],
          "name": "stdout"
        },
        {
          "output_type": "display_data",
          "data": {
            "application/vnd.colab-display-data+json": {
              "pip_warning": {
                "packages": [
                  "typing"
                ]
              }
            }
          },
          "metadata": {
            "tags": []
          }
        }
      ]
    },
    {
      "cell_type": "code",
      "metadata": {
        "id": "ZMUfFWP3qT5E",
        "colab_type": "code",
        "colab": {}
      },
      "source": [
        "import numpy as np\n",
        "import tensorflow_hub as hub\n",
        "from official.modeling import tf_utils\n",
        "from official import nlp\n",
        "from official.nlp import bert\n",
        "\n",
        "# Load the required submodules\n",
        "import official.nlp.optimization\n",
        "import official.nlp.bert.bert_models\n",
        "import official.nlp.bert.configs\n",
        "import official.nlp.bert.run_classifier\n",
        "import official.nlp.bert.tokenization\n",
        "import official.nlp.data.classifier_data_lib\n",
        "import official.nlp.modeling.losses\n",
        "import official.nlp.modeling.models\n",
        "import official.nlp.modeling.networks"
      ],
      "execution_count": null,
      "outputs": []
    },
    {
      "cell_type": "markdown",
      "metadata": {
        "id": "oHcPc1kuWzOV",
        "colab_type": "text"
      },
      "source": [
        "## Load Data"
      ]
    },
    {
      "cell_type": "code",
      "metadata": {
        "id": "iUgii0Flt_EY",
        "colab_type": "code",
        "colab": {}
      },
      "source": [
        "# Load csv files\n",
        "import pandas as pd\n",
        "train_bodies = pd.read_csv('train_bodies.csv')\n",
        "train_stances = pd.read_csv('train_stances.csv')\n",
        "competition_test_bodies = pd.read_csv('competition_test_bodies.csv')\n",
        "competition_test_stances = pd.read_csv('competition_test_stances.csv')"
      ],
      "execution_count": null,
      "outputs": []
    },
    {
      "cell_type": "code",
      "metadata": {
        "id": "31lajOd38OK4",
        "colab_type": "code",
        "colab": {}
      },
      "source": [
        "# Combine body file and stance file\n",
        "train_df = train_stances.join(train_bodies.set_index('Body ID'), on='Body ID',sort = False)\n",
        "test_df = competition_test_stances.join(competition_test_bodies.set_index('Body ID'), on='Body ID',sort = False)"
      ],
      "execution_count": null,
      "outputs": []
    },
    {
      "cell_type": "code",
      "metadata": {
        "id": "F9mW6cHw9ei1",
        "colab_type": "code",
        "colab": {}
      },
      "source": [
        "train_df.replace('unrelated',0,True)\n",
        "train_df.replace('agree',1,True)\n",
        "train_df.replace('disagree',2,True)\n",
        "train_df.replace('discuss',3,True)"
      ],
      "execution_count": null,
      "outputs": []
    },
    {
      "cell_type": "code",
      "metadata": {
        "id": "cznnxSMx7DWx",
        "colab_type": "code",
        "colab": {}
      },
      "source": [
        "# shuffle the training dataset\n",
        "train_df=train_df.sample(frac=1, random_state=1).reset_index(drop=True)"
      ],
      "execution_count": null,
      "outputs": []
    },
    {
      "cell_type": "code",
      "metadata": {
        "id": "txJrxz2CElLq",
        "colab_type": "code",
        "colab": {
          "base_uri": "https://localhost:8080/",
          "height": 163
        },
        "outputId": "cb5cc660-9c21-4a21-8d27-15f6bf7ad6e0"
      },
      "source": [
        "for c in train_df:\n",
        "    if train_df[c].dtype == 'object':\n",
        "        print('Max length of column %s: %s\\n' %  (c, train_df[c].map(len).max()))\n",
        "for c in train_df:\n",
        "    if train_df[c].dtype == 'object':\n",
        "        print('Min length of column %s: %s\\n' %  (c, train_df[c].map(len).min()))"
      ],
      "execution_count": null,
      "outputs": [
        {
          "output_type": "stream",
          "text": [
            "Max length of column Headline: 225\n",
            "\n",
            "Max length of column articleBody: 27579\n",
            "\n",
            "Min length of column Headline: 9\n",
            "\n",
            "Min length of column articleBody: 38\n",
            "\n"
          ],
          "name": "stdout"
        }
      ]
    },
    {
      "cell_type": "code",
      "metadata": {
        "id": "K11MLM4_OnuR",
        "colab_type": "code",
        "colab": {
          "base_uri": "https://localhost:8080/",
          "height": 198
        },
        "outputId": "6ec04f07-cd9f-4a6d-c551-ac2ffe764d43"
      },
      "source": [
        "train_df.groupby('Stance').count()/train_df.count()"
      ],
      "execution_count": null,
      "outputs": [
        {
          "output_type": "execute_result",
          "data": {
            "text/html": [
              "<div>\n",
              "<style scoped>\n",
              "    .dataframe tbody tr th:only-of-type {\n",
              "        vertical-align: middle;\n",
              "    }\n",
              "\n",
              "    .dataframe tbody tr th {\n",
              "        vertical-align: top;\n",
              "    }\n",
              "\n",
              "    .dataframe thead th {\n",
              "        text-align: right;\n",
              "    }\n",
              "</style>\n",
              "<table border=\"1\" class=\"dataframe\">\n",
              "  <thead>\n",
              "    <tr style=\"text-align: right;\">\n",
              "      <th></th>\n",
              "      <th>Body ID</th>\n",
              "      <th>Headline</th>\n",
              "      <th>Stance</th>\n",
              "      <th>articleBody</th>\n",
              "    </tr>\n",
              "    <tr>\n",
              "      <th>Stance</th>\n",
              "      <th></th>\n",
              "      <th></th>\n",
              "      <th></th>\n",
              "      <th></th>\n",
              "    </tr>\n",
              "  </thead>\n",
              "  <tbody>\n",
              "    <tr>\n",
              "      <th>0</th>\n",
              "      <td>0.731310</td>\n",
              "      <td>0.731310</td>\n",
              "      <td>NaN</td>\n",
              "      <td>0.731310</td>\n",
              "    </tr>\n",
              "    <tr>\n",
              "      <th>1</th>\n",
              "      <td>0.073601</td>\n",
              "      <td>0.073601</td>\n",
              "      <td>NaN</td>\n",
              "      <td>0.073601</td>\n",
              "    </tr>\n",
              "    <tr>\n",
              "      <th>2</th>\n",
              "      <td>0.016809</td>\n",
              "      <td>0.016809</td>\n",
              "      <td>NaN</td>\n",
              "      <td>0.016809</td>\n",
              "    </tr>\n",
              "    <tr>\n",
              "      <th>3</th>\n",
              "      <td>0.178280</td>\n",
              "      <td>0.178280</td>\n",
              "      <td>NaN</td>\n",
              "      <td>0.178280</td>\n",
              "    </tr>\n",
              "  </tbody>\n",
              "</table>\n",
              "</div>"
            ],
            "text/plain": [
              "         Body ID  Headline  Stance  articleBody\n",
              "Stance                                         \n",
              "0       0.731310  0.731310     NaN     0.731310\n",
              "1       0.073601  0.073601     NaN     0.073601\n",
              "2       0.016809  0.016809     NaN     0.016809\n",
              "3       0.178280  0.178280     NaN     0.178280"
            ]
          },
          "metadata": {
            "tags": []
          },
          "execution_count": 11
        }
      ]
    },
    {
      "cell_type": "code",
      "metadata": {
        "id": "YalbPeJ6HRmQ",
        "colab_type": "code",
        "colab": {}
      },
      "source": [
        "# Split body and head\n",
        "X_train_bodies = train_df['articleBody']\n",
        "X_train_head = train_df['Headline']\n",
        "y_train = train_df['Stance']\n",
        "X_test_bodies = test_df['articleBody']\n",
        "X_test_head = test_df['Headline']\n",
        "y_test = test_df['Stance']"
      ],
      "execution_count": null,
      "outputs": []
    },
    {
      "cell_type": "code",
      "metadata": {
        "id": "YbAxdKxXhvBA",
        "colab_type": "code",
        "colab": {}
      },
      "source": [
        "# Encode class values as integers\n",
        "from sklearn.preprocessing import LabelEncoder\n",
        "label_encoder = LabelEncoder().fit(train_df['Stance'])\n",
        "y_train_val = label_encoder.fit_transform(train_df['Stance'])"
      ],
      "execution_count": null,
      "outputs": []
    },
    {
      "cell_type": "code",
      "metadata": {
        "id": "qPw80trUhvb5",
        "colab_type": "code",
        "colab": {}
      },
      "source": [
        "# Split into training and validation set\n",
        "from sklearn.model_selection import train_test_split\n",
        "X_train_bodies, X_val_bodies, X_train_head, X_val_head, y_train, y_val = train_test_split(\n",
        "        X_train_bodies,X_train_head,y_train, test_size=0.1, random_state=0, stratify = y_train_val\n",
        "        )"
      ],
      "execution_count": null,
      "outputs": []
    },
    {
      "cell_type": "code",
      "metadata": {
        "id": "77TGKlMQHnh1",
        "colab_type": "code",
        "colab": {
          "base_uri": "https://localhost:8080/",
          "height": 90
        },
        "outputId": "ee846c8d-05e1-41ae-d5d5-c896562e856d"
      },
      "source": [
        "# This directory contains the configuration, vocabulary, and a pre-trained checkpoint used in this notebook\n",
        "gs_folder_bert = \"gs://cloud-tpu-checkpoints/bert/keras_bert/uncased_L-12_H-768_A-12\"\n",
        "tf.io.gfile.listdir(gs_folder_bert)"
      ],
      "execution_count": null,
      "outputs": [
        {
          "output_type": "execute_result",
          "data": {
            "text/plain": [
              "['bert_config.json',\n",
              " 'bert_model.ckpt.data-00000-of-00001',\n",
              " 'bert_model.ckpt.index',\n",
              " 'vocab.txt']"
            ]
          },
          "metadata": {
            "tags": []
          },
          "execution_count": 15
        }
      ]
    },
    {
      "cell_type": "markdown",
      "metadata": {
        "id": "tEiBHpLnMlWH",
        "colab_type": "text"
      },
      "source": [
        "# **The BERT tokenizer**"
      ]
    },
    {
      "cell_type": "code",
      "metadata": {
        "id": "C7f8ghz6I7h7",
        "colab_type": "code",
        "colab": {
          "base_uri": "https://localhost:8080/",
          "height": 35
        },
        "outputId": "c8a3204f-bd31-420f-bab6-7ee356fbc693"
      },
      "source": [
        "# Set up tokenizer to generate Tensorflow dataset\n",
        "tokenizer = bert.tokenization.FullTokenizer(\n",
        "    vocab_file=os.path.join(gs_folder_bert, \"vocab.txt\"),\n",
        "     do_lower_case=True)\n",
        "\n",
        "print(\"Vocab size:\", len(tokenizer.vocab))"
      ],
      "execution_count": null,
      "outputs": [
        {
          "output_type": "stream",
          "text": [
            "Vocab size: 30522\n"
          ],
          "name": "stdout"
        }
      ]
    },
    {
      "cell_type": "code",
      "metadata": {
        "id": "DB53etEPMqEO",
        "colab_type": "code",
        "colab": {}
      },
      "source": [
        "def encode_sentence(s,tokenizer,max_seq_len):\n",
        "  tokens = tokenizer.tokenize(s)\n",
        "  tokens = tokens[:max_seq_len]\n",
        "  tokens.append('[SEP]')\n",
        "  return tokenizer.convert_tokens_to_ids(tokens)"
      ],
      "execution_count": null,
      "outputs": []
    },
    {
      "cell_type": "code",
      "metadata": {
        "id": "Sc0dw90MLkQB",
        "colab_type": "code",
        "colab": {}
      },
      "source": [
        "def bert_encode(X_bodies,X_head, tokenizer,max_seq_len):\n",
        "  num_examples = len(X_bodies)\n",
        "  \n",
        "  body = tf.ragged.constant([\n",
        "      encode_sentence(s, tokenizer,max_seq_len)\n",
        "      for s in np.array(X_bodies)])\n",
        "  \n",
        "  head = tf.ragged.constant([\n",
        "      encode_sentence(s, tokenizer,max_seq_len)\n",
        "       for s in np.array(X_head)])\n",
        "  \n",
        "  cls = [tokenizer.convert_tokens_to_ids(['[CLS]'])]*body.shape[0]\n",
        "\n",
        "  input_word_ids = tf.concat([cls, body, head], axis=-1)\n",
        "  input_mask = tf.ones_like(input_word_ids).to_tensor()\n",
        "  type_cls = tf.zeros_like(cls)\n",
        "  type_body = tf.zeros_like(body)\n",
        "  type_head = tf.ones_like(head)\n",
        "  input_type_ids = tf.concat(\n",
        "      [type_cls, type_body, type_head], axis=-1).to_tensor()\n",
        "  inputs = {\n",
        "      'input_word_ids': input_word_ids.to_tensor(),\n",
        "      'input_mask': input_mask,\n",
        "      'input_type_ids': input_type_ids}\n",
        "\n",
        "  return inputs"
      ],
      "execution_count": null,
      "outputs": []
    },
    {
      "cell_type": "code",
      "metadata": {
        "id": "ls-65O8OTQxr",
        "colab_type": "code",
        "colab": {}
      },
      "source": [
        "# The maximum input length is 512, but X_train_body is much longer than 512 after tokenization, and X_head is short (less then 100) after tokenization\n",
        "# Here 429 is the maximum number found that makes the size of X_train <= 512\n",
        "# Test truncation length of 150, 200, 250, 300, 350, 400\n",
        "X_train = bert_encode(X_train_bodies,X_train_head, tokenizer,400)\n",
        "X_val = bert_encode(X_val_bodies,X_val_head, tokenizer,400)\n",
        "X_test = bert_encode(X_test_bodies,X_test_head, tokenizer, 400)"
      ],
      "execution_count": null,
      "outputs": []
    },
    {
      "cell_type": "code",
      "metadata": {
        "id": "iff2ygpHWsMZ",
        "colab_type": "code",
        "colab": {
          "base_uri": "https://localhost:8080/",
          "height": 199
        },
        "outputId": "c0880baa-de97-478e-fbc7-32d827382d94"
      },
      "source": [
        "# Check the size of X tensors\n",
        "for key, value in X_train.items():\n",
        "  print(f'{key:15s} shape: {value.shape}')\n",
        "for key, value in X_val.items():\n",
        "  print(f'{key:15s} shape: {value.shape}')\n",
        "for key, value in X_test.items():\n",
        "  print(f'{key:15s} shape: {value.shape}')\n",
        "print(f'train_labels shape: {y_train.shape}')"
      ],
      "execution_count": null,
      "outputs": [
        {
          "output_type": "stream",
          "text": [
            "input_word_ids  shape: (44974, 483)\n",
            "input_mask      shape: (44974, 483)\n",
            "input_type_ids  shape: (44974, 483)\n",
            "input_word_ids  shape: (4998, 483)\n",
            "input_mask      shape: (4998, 483)\n",
            "input_type_ids  shape: (4998, 483)\n",
            "input_word_ids  shape: (25413, 475)\n",
            "input_mask      shape: (25413, 475)\n",
            "input_type_ids  shape: (25413, 475)\n",
            "train_labels shape: (44974,)\n"
          ],
          "name": "stdout"
        }
      ]
    },
    {
      "cell_type": "code",
      "metadata": {
        "id": "SMrXA0c9IgPk",
        "colab_type": "code",
        "colab": {}
      },
      "source": [
        "# padding with zeros\n",
        "d1 = 512 - X_train['input_mask'].shape[1]\n",
        "d2 = 512 - X_val['input_mask'].shape[1]\n",
        "d3 = 512 - X_test['input_mask'].shape[1]\n",
        "\n",
        "X_train_tokens = X_train\n",
        "X_val_tokens = X_val\n",
        "X_test_tokens = X_test\n",
        "\n",
        "paddings_1 = tf.constant([[0, 0,], [0, d1]])\n",
        "X_train_tokens['input_mask'] = tf.pad(X_train_tokens['input_mask'], paddings_1, \"CONSTANT\")\n",
        "X_train_tokens['input_type_ids'] = tf.pad(X_train_tokens['input_type_ids'], paddings_1, \"CONSTANT\")\n",
        "X_train_tokens['input_word_ids'] = tf.pad(X_train_tokens['input_word_ids'], paddings_1, \"CONSTANT\")\n",
        "\n",
        "\n",
        "paddings_2 = tf.constant([[0, 0,], [0, d2]])\n",
        "X_val_tokens['input_mask'] = tf.pad(X_val_tokens['input_mask'], paddings_2, \"CONSTANT\")\n",
        "X_val_tokens['input_type_ids'] = tf.pad(X_val_tokens['input_type_ids'], paddings_2, \"CONSTANT\")\n",
        "X_val_tokens['input_word_ids'] = tf.pad(X_val_tokens['input_word_ids'], paddings_2, \"CONSTANT\")\n",
        "\n",
        "paddings_3 = tf.constant([[0, 0,], [0, d3]])\n",
        "X_test_tokens['input_mask'] = tf.pad(X_test_tokens['input_mask'], paddings_3, \"CONSTANT\")\n",
        "X_test_tokens['input_type_ids'] = tf.pad(X_test_tokens['input_type_ids'], paddings_3, \"CONSTANT\")\n",
        "X_test_tokens['input_word_ids'] = tf.pad(X_test_tokens['input_word_ids'], paddings_3, \"CONSTANT\")"
      ],
      "execution_count": null,
      "outputs": []
    },
    {
      "cell_type": "code",
      "metadata": {
        "id": "Q41PTGCBImQg",
        "colab_type": "code",
        "colab": {
          "base_uri": "https://localhost:8080/",
          "height": 199
        },
        "outputId": "ee6f5c98-a02a-44ec-f935-edd42c3031f8"
      },
      "source": [
        "# Check the size of X tensors after padding\n",
        "for key, value in X_train_tokens.items():\n",
        "  print(f'{key:15s} shape: {value.shape}')\n",
        "for key, value in X_val_tokens.items():\n",
        "  print(f'{key:15s} shape: {value.shape}')\n",
        "for key, value in X_test_tokens.items():\n",
        "  print(f'{key:15s} shape: {value.shape}')\n",
        "print(f'train_labels shape: {y_train.shape}')"
      ],
      "execution_count": null,
      "outputs": [
        {
          "output_type": "stream",
          "text": [
            "input_word_ids  shape: (44974, 512)\n",
            "input_mask      shape: (44974, 512)\n",
            "input_type_ids  shape: (44974, 512)\n",
            "input_word_ids  shape: (4998, 512)\n",
            "input_mask      shape: (4998, 512)\n",
            "input_type_ids  shape: (4998, 512)\n",
            "input_word_ids  shape: (25413, 512)\n",
            "input_mask      shape: (25413, 512)\n",
            "input_type_ids  shape: (25413, 512)\n",
            "train_labels shape: (44974,)\n"
          ],
          "name": "stdout"
        }
      ]
    },
    {
      "cell_type": "markdown",
      "metadata": {
        "id": "rx4L9ignPqOe",
        "colab_type": "text"
      },
      "source": [
        "# **Build the model**"
      ]
    },
    {
      "cell_type": "code",
      "metadata": {
        "id": "JDdrhVOCVmCA",
        "colab_type": "code",
        "colab": {
          "base_uri": "https://localhost:8080/",
          "height": 217
        },
        "outputId": "db03c1b3-fc0e-4ee5-ac5f-0f92538382d7"
      },
      "source": [
        "# Download the configuration for the pre-trained model.\n",
        "bert_config_file = os.path.join(gs_folder_bert, \"bert_config.json\")\n",
        "config_dict = json.loads(tf.io.gfile.GFile(bert_config_file).read())\n",
        "\n",
        "bert_config = bert.configs.BertConfig.from_dict(config_dict)\n",
        "\n",
        "config_dict"
      ],
      "execution_count": null,
      "outputs": [
        {
          "output_type": "execute_result",
          "data": {
            "text/plain": [
              "{'attention_probs_dropout_prob': 0.1,\n",
              " 'hidden_act': 'gelu',\n",
              " 'hidden_dropout_prob': 0.1,\n",
              " 'hidden_size': 768,\n",
              " 'initializer_range': 0.02,\n",
              " 'intermediate_size': 3072,\n",
              " 'max_position_embeddings': 512,\n",
              " 'num_attention_heads': 12,\n",
              " 'num_hidden_layers': 12,\n",
              " 'type_vocab_size': 2,\n",
              " 'vocab_size': 30522}"
            ]
          },
          "metadata": {
            "tags": []
          },
          "execution_count": 142
        }
      ]
    },
    {
      "cell_type": "code",
      "metadata": {
        "id": "ZqxxHXkqVox6",
        "colab_type": "code",
        "colab": {
          "base_uri": "https://localhost:8080/",
          "height": 255
        },
        "outputId": "9a74f493-ee17-4fed-aa3e-17549c341c4e"
      },
      "source": [
        "with tpu_strategy.scope():\n",
        "    bert_classifier, bert_encoder = bert.bert_models.classifier_model(\n",
        "    bert_config, num_labels=4,max_seq_length=None)"
      ],
      "execution_count": null,
      "outputs": [
        {
          "output_type": "stream",
          "text": [
            "WARNING:tensorflow:BertClassifier inputs must come from `tf.keras.Input` (thus holding past layer metadata), they cannot be the output of a previous non-Input layer. Here, a tensor specified as input to \"bert_classifier_2\" was not an Input tensor, it was generated by layer input_mask.\n",
            "Note that input tensors are instantiated via `tensor = tf.keras.Input(shape)`.\n",
            "The tensor that caused the issue was: input_mask_2:0\n"
          ],
          "name": "stdout"
        },
        {
          "output_type": "stream",
          "text": [
            "WARNING:tensorflow:BertClassifier inputs must come from `tf.keras.Input` (thus holding past layer metadata), they cannot be the output of a previous non-Input layer. Here, a tensor specified as input to \"bert_classifier_2\" was not an Input tensor, it was generated by layer input_mask.\n",
            "Note that input tensors are instantiated via `tensor = tf.keras.Input(shape)`.\n",
            "The tensor that caused the issue was: input_mask_2:0\n"
          ],
          "name": "stderr"
        },
        {
          "output_type": "stream",
          "text": [
            "WARNING:tensorflow:BertClassifier inputs must come from `tf.keras.Input` (thus holding past layer metadata), they cannot be the output of a previous non-Input layer. Here, a tensor specified as input to \"bert_classifier_2\" was not an Input tensor, it was generated by layer input_type_ids.\n",
            "Note that input tensors are instantiated via `tensor = tf.keras.Input(shape)`.\n",
            "The tensor that caused the issue was: input_type_ids_2:0\n"
          ],
          "name": "stdout"
        },
        {
          "output_type": "stream",
          "text": [
            "WARNING:tensorflow:BertClassifier inputs must come from `tf.keras.Input` (thus holding past layer metadata), they cannot be the output of a previous non-Input layer. Here, a tensor specified as input to \"bert_classifier_2\" was not an Input tensor, it was generated by layer input_type_ids.\n",
            "Note that input tensors are instantiated via `tensor = tf.keras.Input(shape)`.\n",
            "The tensor that caused the issue was: input_type_ids_2:0\n"
          ],
          "name": "stderr"
        }
      ]
    },
    {
      "cell_type": "code",
      "metadata": {
        "id": "XViuoL1M1iJ1",
        "colab_type": "code",
        "colab": {
          "base_uri": "https://localhost:8080/",
          "height": 274
        },
        "outputId": "316e224f-ecc1-42c1-d10d-9e6cb7ed14d4"
      },
      "source": [
        "tf.keras.utils.plot_model(bert_classifier, show_shapes=False, dpi=70)"
      ],
      "execution_count": null,
      "outputs": [
        {
          "output_type": "execute_result",
          "data": {
            "image/png": "[encoded data removed]",
            "text/plain": [
              "<IPython.core.display.Image object>"
            ]
          },
          "metadata": {
            "tags": []
          },
          "execution_count": 25
        }
      ]
    },
    {
      "cell_type": "code",
      "metadata": {
        "id": "SZqkDmgR1mBT",
        "colab_type": "code",
        "colab": {
          "base_uri": "https://localhost:8080/",
          "height": 1000
        },
        "outputId": "b37b44ea-ff9b-4ee9-d088-af665b7ba216"
      },
      "source": [
        "tf.keras.utils.plot_model(bert_encoder, show_shapes=False, dpi=70)"
      ],
      "execution_count": null,
      "outputs": [
        {
          "output_type": "execute_result",
          "data": {
            "image/png": "[encoded data removed]",
            "text/plain": [
              "<IPython.core.display.Image object>"
            ]
          },
          "metadata": {
            "tags": []
          },
          "execution_count": 26
        }
      ]
    },
    {
      "cell_type": "code",
      "metadata": {
        "id": "UUfUp6Bra9wT",
        "colab_type": "code",
        "colab": {
          "base_uri": "https://localhost:8080/",
          "height": 417
        },
        "outputId": "ad7a6a64-160f-44a9-d312-c7538732d575"
      },
      "source": [
        "bert_classifier.summary()"
      ],
      "execution_count": null,
      "outputs": [
        {
          "output_type": "stream",
          "text": [
            "Model: \"bert_classifier\"\n",
            "__________________________________________________________________________________________________\n",
            "Layer (type)                    Output Shape         Param #     Connected to                     \n",
            "==================================================================================================\n",
            "input_word_ids (InputLayer)     [(None, None)]       0                                            \n",
            "__________________________________________________________________________________________________\n",
            "input_mask (InputLayer)         [(None, None)]       0                                            \n",
            "__________________________________________________________________________________________________\n",
            "input_type_ids (InputLayer)     [(None, None)]       0                                            \n",
            "__________________________________________________________________________________________________\n",
            "transformer_encoder (Transforme [(None, None, 768),  109482240   input_word_ids[0][0]             \n",
            "                                                                 input_mask[0][0]                 \n",
            "                                                                 input_type_ids[0][0]             \n",
            "__________________________________________________________________________________________________\n",
            "dropout_1 (Dropout)             (None, 768)          0           transformer_encoder[1][1]        \n",
            "__________________________________________________________________________________________________\n",
            "classification (Classification) (None, 4)            3076        dropout_1[0][0]                  \n",
            "==================================================================================================\n",
            "Total params: 109,485,316\n",
            "Trainable params: 109,485,316\n",
            "Non-trainable params: 0\n",
            "__________________________________________________________________________________________________\n"
          ],
          "name": "stdout"
        }
      ]
    },
    {
      "cell_type": "markdown",
      "metadata": {
        "id": "cezo733yQZZa",
        "colab_type": "text"
      },
      "source": [
        "# **Train the model**"
      ]
    },
    {
      "cell_type": "code",
      "metadata": {
        "id": "O0pfRKXvMYkK",
        "colab_type": "code",
        "colab": {
          "base_uri": "https://localhost:8080/",
          "height": 35
        },
        "outputId": "4e0f2297-7df2-405d-bc94-2f32e0880082"
      },
      "source": [
        "# Restore the encoder's weights from the checkpoint\n",
        "checkpoint = tf.train.Checkpoint(model=bert_encoder)\n",
        "checkpoint.restore(\n",
        "    os.path.join(gs_folder_bert, 'bert_model.ckpt')).assert_consumed()"
      ],
      "execution_count": null,
      "outputs": [
        {
          "output_type": "execute_result",
          "data": {
            "text/plain": [
              "<tensorflow.python.training.tracking.util.CheckpointLoadStatus at 0x7fd1ccf5cda0>"
            ]
          },
          "metadata": {
            "tags": []
          },
          "execution_count": 304
        }
      ]
    },
    {
      "cell_type": "code",
      "metadata": {
        "id": "GfMJ-FiYDRGB",
        "colab_type": "code",
        "colab": {}
      },
      "source": [
        "# Set up epochs and steps\n",
        "# epoch = 2,3,4\n",
        "# batch_size = 16, 32, 64\n",
        "# learning rate = 5e-5, 3e-5, 4e-5, 2e-5\n",
        "\n",
        "epochs = 3\n",
        "batch_size = 16\n",
        "eval_batch_size = 16\n",
        "\n",
        "train_data_size = len(y_train)\n",
        "steps_per_epoch = int(train_data_size / batch_size)\n",
        "num_train_steps = steps_per_epoch * epochs\n",
        "warmup_steps = int(epochs * train_data_size * 0.1 / batch_size)\n",
        "\n",
        "# creates an optimizer with learning rate schedule\n",
        "optimizer = nlp.optimization.create_optimizer(\n",
        "    3.9e-5, num_train_steps=num_train_steps, num_warmup_steps=warmup_steps)\n",
        "\n"
      ],
      "execution_count": null,
      "outputs": []
    },
    {
      "cell_type": "code",
      "metadata": {
        "id": "eHE9LQ5yY5nU",
        "colab_type": "code",
        "colab": {
          "base_uri": "https://localhost:8080/",
          "height": 126
        },
        "outputId": "0f6b21b6-1a28-49cd-f3bd-2596f981c65e"
      },
      "source": [
        "with tpu_strategy.scope():\n",
        "  metrics = [tf.keras.metrics.SparseCategoricalAccuracy('accuracy', dtype=tf.float32)]\n",
        "  loss = tf.keras.losses.SparseCategoricalCrossentropy(from_logits=True)\n",
        "\n",
        "  bert_classifier.compile(\n",
        "      optimizer=optimizer,\n",
        "      loss=loss,\n",
        "      metrics=metrics)\n",
        "\n",
        "with tpu_strategy.scope():\n",
        "  history = bert_classifier.fit(\n",
        "      X_train_tokens, y_train,\n",
        "      validation_data=(X_val_tokens, y_val),\n",
        "      batch_size=16,\n",
        "      epochs=epochs)"
      ],
      "execution_count": null,
      "outputs": [
        {
          "output_type": "stream",
          "text": [
            "Epoch 1/3\n",
            "2811/2811 [==============================] - 333s 118ms/step - loss: 0.2084 - accuracy: 0.9224 - val_loss: 0.0907 - val_accuracy: 0.9662\n",
            "Epoch 2/3\n",
            "2811/2811 [==============================] - 324s 115ms/step - loss: 0.0619 - accuracy: 0.9786 - val_loss: 0.0312 - val_accuracy: 0.9898\n",
            "Epoch 3/3\n",
            "2811/2811 [==============================] - 327s 116ms/step - loss: 0.0147 - accuracy: 0.9958 - val_loss: 0.0172 - val_accuracy: 0.9946\n"
          ],
          "name": "stdout"
        }
      ]
    },
    {
      "cell_type": "code",
      "metadata": {
        "id": "_P7lrW0FOLBx",
        "colab_type": "code",
        "colab": {
          "base_uri": "https://localhost:8080/",
          "height": 295
        },
        "outputId": "e5592921-f806-437b-e037-81cfe3148489"
      },
      "source": [
        "import matplotlib as mpl\n",
        "%matplotlib inline\n",
        "from matplotlib import pyplot as plt\n",
        "plt.plot(history.history['accuracy'])\n",
        "plt.plot(history.history['val_accuracy'])\n",
        "plt.title('model accuracy')\n",
        "plt.ylabel('Accuracy')\n",
        "plt.xlabel('Epoch')\n",
        "plt.legend(['train', 'test'], loc='upper left')\n",
        "plt.show()"
      ],
      "execution_count": null,
      "outputs": [
        {
          "output_type": "display_data",
          "data": {
            "image/png": "[encoded data removed]",
            "text/plain": [
              "<Figure size 432x288 with 1 Axes>"
            ]
          },
          "metadata": {
            "tags": [],
            "needs_background": "light"
          }
        }
      ]
    },
    {
      "cell_type": "code",
      "metadata": {
        "id": "g740_cXkJ7lS",
        "colab_type": "code",
        "colab": {
          "base_uri": "https://localhost:8080/",
          "height": 295
        },
        "outputId": "64c756b3-5c94-4ba5-ace0-fddb194c563b"
      },
      "source": [
        "plt.plot(history.history['loss'])\n",
        "plt.plot(history.history['val_loss'])\n",
        "plt.title('model loss')\n",
        "plt.ylabel('loss')\n",
        "plt.xlabel('epoch')\n",
        "plt.legend(['train', 'test'], loc='upper left')\n",
        "plt.show()"
      ],
      "execution_count": null,
      "outputs": [
        {
          "output_type": "display_data",
          "data": {
            "image/png": "[encoded data removed]",
            "text/plain": [
              "<Figure size 432x288 with 1 Axes>"
            ]
          },
          "metadata": {
            "tags": [],
            "needs_background": "light"
          }
        }
      ]
    },
    {
      "cell_type": "code",
      "metadata": {
        "id": "fO3NFMQCl_tM",
        "colab_type": "code",
        "colab": {
          "base_uri": "https://localhost:8080/",
          "height": 35
        },
        "outputId": "83ebf8de-d0cc-4e9d-d223-dd18cf4ab3a0"
      },
      "source": [
        "# serialize model to JSON\n",
        "bert_model = bert_classifier.to_json()\n",
        "with open(\"model.json\", \"w\") as json_file:\n",
        "    json_file.write(bert_model)\n",
        "# serialize weights to HDF5\n",
        "bert_classifier.save_weights(\"bert_model_weights.h5\")\n",
        "print(\"Saved model to disk\")"
      ],
      "execution_count": null,
      "outputs": [
        {
          "output_type": "stream",
          "text": [
            "Saved model to disk\n"
          ],
          "name": "stdout"
        }
      ]
    },
    {
      "cell_type": "markdown",
      "metadata": {
        "id": "-iFFPZvOo1mu",
        "colab_type": "text"
      },
      "source": [
        "# **Prediction**"
      ]
    },
    {
      "cell_type": "code",
      "metadata": {
        "id": "xbMTEBjs3mz4",
        "colab_type": "code",
        "colab": {}
      },
      "source": [
        "preds = bert_classifier.predict(X_test_tokens)"
      ],
      "execution_count": null,
      "outputs": []
    },
    {
      "cell_type": "code",
      "metadata": {
        "id": "n2L-TfZO9BBI",
        "colab_type": "code",
        "colab": {}
      },
      "source": [
        "y_test.replace('unrelated',0,True)\n",
        "y_test.replace('agree',1,True)\n",
        "y_test.replace('disagree',2,True)\n",
        "y_test.replace('discuss',3,True)"
      ],
      "execution_count": null,
      "outputs": []
    },
    {
      "cell_type": "code",
      "metadata": {
        "id": "MUPBragu9ECs",
        "colab_type": "code",
        "colab": {
          "base_uri": "https://localhost:8080/",
          "height": 35
        },
        "outputId": "cde052a8-1d27-434a-957a-34e72551ab73"
      },
      "source": [
        "m = tf.keras.metrics.SparseCategoricalAccuracy()\n",
        "m.update_state(\n",
        "    y_test, preds, sample_weight=None\n",
        ")\n",
        "print(\"Accuracy:{}\".format(m.result().numpy()))"
      ],
      "execution_count": null,
      "outputs": [
        {
          "output_type": "stream",
          "text": [
            "Accuracy:0.9319639801979065\n"
          ],
          "name": "stdout"
        }
      ]
    },
    {
      "cell_type": "code",
      "metadata": {
        "id": "7bqOla7K9FGV",
        "colab_type": "code",
        "colab": {}
      },
      "source": [
        "outputs = [np.argmax(p, axis = -1) for p in preds]"
      ],
      "execution_count": null,
      "outputs": []
    },
    {
      "cell_type": "code",
      "metadata": {
        "id": "D9l8wZvM9L7e",
        "colab_type": "code",
        "colab": {
          "base_uri": "https://localhost:8080/",
          "height": 90
        },
        "outputId": "242d9b85-a3e8-4ef2-b8f1-875c73d47360"
      },
      "source": [
        "from sklearn.metrics import confusion_matrix\n",
        "confusion_matrix(y_test, outputs)"
      ],
      "execution_count": null,
      "outputs": [
        {
          "output_type": "execute_result",
          "data": {
            "text/plain": [
              "array([[18172,    18,    14,   145],\n",
              "       [   27,  1190,    96,   590],\n",
              "       [   37,   134,   276,   250],\n",
              "       [   81,   261,    76,  4046]])"
            ]
          },
          "metadata": {
            "tags": []
          },
          "execution_count": 313
        }
      ]
    },
    {
      "cell_type": "code",
      "metadata": {
        "id": "MKRqm9F29NRk",
        "colab_type": "code",
        "colab": {
          "base_uri": "https://localhost:8080/",
          "height": 35
        },
        "outputId": "d89fa595-6b83-423d-d410-d3b713459568"
      },
      "source": [
        "from sklearn.metrics import accuracy_score\n",
        "accuracy_score(y_test, outputs)"
      ],
      "execution_count": null,
      "outputs": [
        {
          "output_type": "execute_result",
          "data": {
            "text/plain": [
              "0.9319639554558691"
            ]
          },
          "metadata": {
            "tags": []
          },
          "execution_count": 314
        }
      ]
    },
    {
      "cell_type": "code",
      "metadata": {
        "id": "b_6jv5V67jGL",
        "colab_type": "code",
        "colab": {}
      },
      "source": [
        "for i in range(len(outputs)):\n",
        "    if outputs[i] == 0: outputs[i] = \"unrelated\"\n",
        "    if outputs[i] == 1: outputs[i] = \"agree\"\n",
        "    if outputs[i] == 2: outputs[i] = \"disagree\"\n",
        "    if outputs[i] == 3: outputs[i] = \"discuss\"\n",
        "# save the prediction result\n",
        "df_predicted = {}\n",
        "df_predicted = pd.DataFrame({'Stance': outputs})\n",
        "result = pd.concat([test_df[['Headline','Body ID']], df_predicted], axis=1, sort=False)\n",
        "result.to_csv('./answer.csv', index=False, encoding='utf-8')"
      ],
      "execution_count": null,
      "outputs": []
    },
    {
      "cell_type": "code",
      "metadata": {
        "id": "rGaYtRl9CiZ2",
        "colab_type": "code",
        "colab": {}
      },
      "source": [
        "#!/usr/local/env python\n",
        "\"\"\"\n",
        "Scorer for the Fake News Challenge\n",
        " - @bgalbraith\n",
        "\n",
        "Submission is a CSV with the following fields: Headline, Body ID, Stance\n",
        "where Stance is in {agree, disagree, discuss, unrelated}\n",
        "\n",
        "Scoring is as follows:\n",
        "  +0.25 for each correct unrelated\n",
        "  +0.25 for each correct related (label is any of agree, disagree, discuss)\n",
        "  +0.75 for each correct agree, disagree, discuss\n",
        "\"\"\"\n",
        "from __future__ import division\n",
        "import csv\n",
        "import sys\n",
        "\n",
        "\n",
        "FIELDNAMES = ['Headline', 'Body ID', 'Stance']\n",
        "LABELS = ['agree', 'disagree', 'discuss', 'unrelated']\n",
        "RELATED = LABELS[0:3]\n",
        "\n",
        "USAGE = \"\"\"\n",
        "FakeNewsChallenge FNC-1 scorer - version 1.0\n",
        "Usage: python scorer.py gold_labels test_labels\n",
        "\n",
        "  gold_labels - CSV file with reference GOLD stance labels\n",
        "  test_labels - CSV file with predicted stance labels\n",
        "\n",
        "The scorer will provide three scores: MAX, NULL, and TEST\n",
        "  MAX  - the best possible score (100% accuracy)\n",
        "  NULL - score as if all predicted stances were unrelated\n",
        "  TEST - score based on the provided predictions\n",
        "\"\"\"\n",
        "\n",
        "ERROR_MISMATCH = \"\"\"\n",
        "ERROR: Entry mismatch at line {}\n",
        " [expected] Headline: {} // Body ID: {}\n",
        " [got] Headline: {} // Body ID: {}\n",
        "\"\"\"\n",
        "\n",
        "SCORE_REPORT = \"\"\"\n",
        "MAX  - the best possible score (100% accuracy)\n",
        "NULL - score as if all predicted stances were unrelated\n",
        "TEST - score based on the provided predictions\n",
        "\n",
        "||    MAX    ||    NULL   ||    TEST   ||\\n||{:^11}||{:^11}||{:^11}||\n",
        "\"\"\"\n",
        "\n",
        "\n",
        "class FNCException(Exception):\n",
        "    pass\n",
        "\n",
        "\n",
        "def score_submission(gold_labels, test_labels):\n",
        "    score = 0.0\n",
        "    cm = [[0, 0, 0, 0],\n",
        "          [0, 0, 0, 0],\n",
        "          [0, 0, 0, 0],\n",
        "          [0, 0, 0, 0]]\n",
        "\n",
        "    for i, (g, t) in enumerate(zip(gold_labels, test_labels)):\n",
        "        if g['Headline'] != t['Headline'] or g['Body ID'] != t['Body ID']:\n",
        "            error = ERROR_MISMATCH.format(i+2,\n",
        "                                          g['Headline'], g['Body ID'],\n",
        "                                          t['Headline'], t['Body ID'])\n",
        "            raise FNCException(error)\n",
        "        else:\n",
        "            g_stance, t_stance = g['Stance'], t['Stance']\n",
        "            if g_stance == t_stance:\n",
        "                score += 0.25\n",
        "                if g_stance != 'unrelated':\n",
        "                    score += 0.50\n",
        "            if g_stance in RELATED and t_stance in RELATED:\n",
        "                score += 0.25\n",
        "\n",
        "        cm[LABELS.index(g_stance)][LABELS.index(t_stance)] += 1\n",
        "\n",
        "    return score, cm\n",
        "\n",
        "\n",
        "def score_defaults(gold_labels):\n",
        "    \"\"\"\n",
        "    Compute the \"all false\" baseline (all labels as unrelated) and the max\n",
        "    possible score\n",
        "    :param gold_labels: list containing the true labels\n",
        "    :return: (null_score, best_score)\n",
        "    \"\"\"\n",
        "    unrelated = [g for g in gold_labels if g['Stance'] == 'unrelated']\n",
        "    null_score = 0.25 * len(unrelated)\n",
        "    max_score = null_score + (len(gold_labels) - len(unrelated))\n",
        "    return null_score, max_score\n",
        "\n",
        "\n",
        "def load_dataset(filename):\n",
        "    data = None\n",
        "    try:\n",
        "        with open(filename) as fh:\n",
        "            reader = csv.DictReader(fh)\n",
        "            if reader.fieldnames != FIELDNAMES:\n",
        "                error = 'ERROR: Incorrect headers in: {}'.format(filename)\n",
        "                raise FNCException(error)\n",
        "            else:\n",
        "                data = list(reader)\n",
        "\n",
        "            if data is None:\n",
        "                error = 'ERROR: No data found in: {}'.format(filename)\n",
        "                raise FNCException(error)\n",
        "    except FileNotFoundError:\n",
        "        error = \"ERROR: Could not find file: {}\".format(filename)\n",
        "        raise FNCException(error)\n",
        "\n",
        "    return data\n",
        "\n",
        "\n",
        "def print_confusion_matrix(cm):\n",
        "    lines = ['CONFUSION MATRIX:']\n",
        "    header = \"|{:^11}|{:^11}|{:^11}|{:^11}|{:^11}|\".format('', *LABELS)\n",
        "    line_len = len(header)\n",
        "    lines.append(\"-\"*line_len)\n",
        "    lines.append(header)\n",
        "    lines.append(\"-\"*line_len)\n",
        "\n",
        "    hit = 0\n",
        "    total = 0\n",
        "    for i, row in enumerate(cm):\n",
        "        hit += row[i]\n",
        "        total += sum(row)\n",
        "        lines.append(\"|{:^11}|{:^11}|{:^11}|{:^11}|{:^11}|\".format(LABELS[i],\n",
        "                                                                   *row))\n",
        "        lines.append(\"-\"*line_len)\n",
        "    lines.append(\"ACCURACY: {:.3f}\".format(hit / total))\n",
        "    print('\\n'.join(lines))\n",
        "    return hit/total"
      ],
      "execution_count": null,
      "outputs": []
    },
    {
      "cell_type": "code",
      "metadata": {
        "id": "d6eDpKlZCkZs",
        "colab_type": "code",
        "colab": {
          "base_uri": "https://localhost:8080/",
          "height": 399
        },
        "outputId": "51392a79-ba4e-479a-b7b3-30356f4587f8"
      },
      "source": [
        "gold_labels = load_dataset('answer.csv')\n",
        "test_labels = load_dataset('competition_test_stances.csv')\n",
        "\n",
        "test_score, cm = score_submission(gold_labels, test_labels)\n",
        "null_score, max_score = score_defaults(gold_labels)\n",
        "print_confusion_matrix(cm)\n",
        "print(SCORE_REPORT.format(max_score, null_score, test_score))"
      ],
      "execution_count": null,
      "outputs": [
        {
          "output_type": "stream",
          "text": [
            "CONFUSION MATRIX:\n",
            "-------------------------------------------------------------\n",
            "|           |   agree   | disagree  |  discuss  | unrelated |\n",
            "-------------------------------------------------------------\n",
            "|   agree   |   1190    |    134    |    261    |    18     |\n",
            "-------------------------------------------------------------\n",
            "| disagree  |    96     |    276    |    76     |    14     |\n",
            "-------------------------------------------------------------\n",
            "|  discuss  |    590    |    250    |   4046    |    145    |\n",
            "-------------------------------------------------------------\n",
            "| unrelated |    27     |    37     |    81     |   18172   |\n",
            "-------------------------------------------------------------\n",
            "ACCURACY: 0.932\n",
            "\n",
            "MAX  - the best possible score (100% accuracy)\n",
            "NULL - score as if all predicted stances were unrelated\n",
            "TEST - score based on the provided predictions\n",
            "\n",
            "||    MAX    ||    NULL   ||    TEST   ||\n",
            "|| 11675.25  ||  4579.25  || 10406.75  ||\n",
            "\n"
          ],
          "name": "stdout"
        }
      ]
    }
  ]
}