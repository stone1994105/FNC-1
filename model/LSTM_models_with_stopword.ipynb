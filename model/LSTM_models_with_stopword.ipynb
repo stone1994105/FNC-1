{
 "cells": [
  {
   "cell_type": "code",
   "execution_count": 25,
   "metadata": {},
   "outputs": [],
   "source": [
    "import gensim\n",
    "import numpy as np\n",
    "import pandas as pd\n",
    "import os\n",
    "import re\n",
    "import csv\n",
    "import codecs\n",
    "import sys\n",
    "import pickle\n",
    "\n",
    "from gensim.scripts.glove2word2vec import glove2word2vec\n",
    "from gensim.models import KeyedVectors\n",
    "from sklearn.model_selection import train_test_split\n",
    "from keras.utils import plot_model \n",
    "import gensim\n",
    "\n",
    "from keras import callbacks\n",
    "from keras import optimizers\n",
    "from keras import models # simplify the following lines...\n",
    "\n",
    "\n",
    "from keras.models import Sequential, Model, load_model\n",
    "from keras.layers import Attention, Conv1D, MaxPooling1D, Input, Dense, LSTM, Embedding, Dropout, BatchNormalization, Activation, Bidirectional\n",
    "from keras.layers.merge import concatenate\n",
    "from keras.layers.normalization import BatchNormalization\n",
    "from keras.preprocessing.text import text_to_word_sequence, Tokenizer\n",
    "from keras.preprocessing.sequence import pad_sequences\n",
    "\n",
    "\n",
    "import matplotlib as mpl\n",
    "%matplotlib inline\n",
    "from matplotlib import pyplot as plt\n",
    "from keras.utils import plot_model \n",
    "from IPython.display import Image\n",
    "import pydot\n",
    "from sklearn.preprocessing import LabelEncoder\n",
    "from keras.utils import np_utils\n",
    "import tensorflow as tf\n",
    "\n",
    "\n",
    "from nltk.corpus import stopwords\n",
    "from nltk.stem import SnowballStemmer\n",
    "\n",
    "from string import punctuation\n",
    "\n",
    "from keras import backend as K\n",
    "from keras.engine.topology import Layer\n",
    "#from keras import initializations\n",
    "from keras import initializers, regularizers, constraints\n"
   ]
  },
  {
   "cell_type": "markdown",
   "metadata": {},
   "source": [
    "# Set golabl variables"
   ]
  },
  {
   "cell_type": "code",
   "execution_count": 18,
   "metadata": {},
   "outputs": [],
   "source": [
    "DATA_DIR = 'data'\n",
    "GloVe_PATH = 'data/glove.twitter.27B.50d.txt'\n",
    "W2V_PATH = 'data/glove.50d.txt.word2vec' # dimension 50 w2v model\n",
    "MAX_SENT_LEN = 150\n",
    "MAX_VOCAB_SIZE = 40000\n",
    "LSTM_DIM = 100\n",
    "EMBEDDING_DIM = 50 # has to match dimension of w2v model (above)\n",
    "BATCH_SIZE = 128\n",
    "N_EPOCHS = 40\n",
    "\n",
    "FILTER_LIST = '!\"\\'#$%&()*+,-./:;<=>?@[\\\\]^_`{|}~\\t\\n'\n",
    "\n",
    "SHOW_PRINTS = True\n",
    "\n",
    "pd.set_option('display.max_colwidth', 500) # Set to -1 for no truncation.\n",
    "\n",
    "# RESET RNG\n",
    "\n",
    "np.random.seed(1)"
   ]
  },
  {
   "cell_type": "markdown",
   "metadata": {},
   "source": [
    "# Load data"
   ]
  },
  {
   "cell_type": "code",
   "execution_count": 67,
   "metadata": {},
   "outputs": [],
   "source": [
    "\n",
    "def load_data(data_dir = DATA_DIR, show_prints = SHOW_PRINTS):\n",
    "    \n",
    "    if show_prints == True:\n",
    "        print('Loading data to dataframes...')\n",
    "    \n",
    "    train_content = pd.read_csv(os.path.join(data_dir,'train_bodies.csv'))\n",
    "    train_stances = pd.read_csv(os.path.join(data_dir,'train_stances.csv'))\n",
    "    test_content = pd.read_csv(os.path.join(data_dir,'competition_test_bodies.csv'))\n",
    "    test_stances = pd.read_csv(os.path.join(data_dir,'competition_test_stances_unlabeled.csv'))\n",
    "    \n",
    "    if show_prints == True:\n",
    "        print('Joining content and stance dataframes...')\n",
    "    \n",
    "    # would be better to replace only in the desired column, but whatever.\n",
    "    \n",
    "    train_stances.replace('unrelated',0,True)\n",
    "    train_stances.replace('agree',1,True)\n",
    "    train_stances.replace('disagree',2,True)\n",
    "    train_stances.replace('discuss',3,True)\n",
    "    \n",
    "    train_combined = train_stances.join(train_content.set_index('Body ID'), on='Body ID')\n",
    "    test_combined = test_stances.join(test_content.set_index('Body ID'), on='Body ID')\n",
    "    \n",
    "    if show_prints == True:\n",
    "        print('Done.')\n",
    "    \n",
    "    \n",
    "    \n",
    "    return train_combined, test_combined\n",
    "\n",
    "\n"
   ]
  },
  {
   "cell_type": "markdown",
   "metadata": {},
   "source": [
    "# Pre-processing "
   ]
  },
  {
   "cell_type": "code",
   "execution_count": 4,
   "metadata": {},
   "outputs": [],
   "source": [
    "# The following function returns two lists of lists of strings (tokens).\n",
    "# The main point is to remove the filtered punctuation.\n",
    "# Alternately, it is possible to feed the tokenizer lists of\n",
    "# strings (the entire headline + body).\n",
    "# This function takes longer to run than the tokenizer, though if\n",
    "# you do things the alternate way, the tokenizer will also have to\n",
    "# do this extra process of splitting the strings into single word strings\n",
    "# which will add to the time that tokenizer() takes to run. The\n",
    "# sequence_words() function seems to be fairly efficient anyway.\n",
    "\n",
    "\n",
    "def sequence_words(train_combined, test_combined, show_prints = SHOW_PRINTS, filter_list = FILTER_LIST):\n",
    "    \n",
    "    if show_prints == True:\n",
    "        print('Pairing headlines with bodies...')\n",
    "    \n",
    "    train_pairs = list(zip(*map(train_combined.get, ['Headline', 'articleBody'])))\n",
    "    test_pairs = list(zip(*map(test_combined.get, ['Headline', 'articleBody'])))\n",
    "    \n",
    "    if show_prints == True:\n",
    "        print('Creating word sequences...')\n",
    "    \n",
    "    #train_word_seqs = [text_to_word_sequence(pair[0] + ' ' + pair[1],filter_list) for pair in train_pairs]\n",
    "    #test_word_seqs = [text_to_word_sequence(pair[0] + ' ' + pair[1],filter_list) for pair in test_pairs]\n",
    "    \n",
    "    train_word_seqs = []\n",
    "    train_head_lengths = []\n",
    "    \n",
    "    for pair in train_pairs:\n",
    "        head_word_seq = text_to_word_sequence(pair[0],filter_list)\n",
    "        body_word_seq = text_to_word_sequence(pair[1],filter_list)\n",
    "        train_word_seqs.append(head_word_seq + body_word_seq)\n",
    "        train_head_lengths.append(len(head_word_seq))\n",
    "    \n",
    "    test_word_seqs = []\n",
    "    test_head_lengths = []\n",
    "    \n",
    "    for pair in test_pairs:\n",
    "        head_word_seq = text_to_word_sequence(pair[0],filter_list)\n",
    "        body_word_seq = text_to_word_sequence(pair[1],filter_list)\n",
    "        test_word_seqs.append(head_word_seq + body_word_seq)\n",
    "        test_head_lengths.append(len(head_word_seq))\n",
    "    \n",
    "    \n",
    "    if show_prints == True:\n",
    "        print('Done.')\n",
    "    \n",
    "    return train_word_seqs, test_word_seqs, train_head_lengths, test_head_lengths\n"
   ]
  },
  {
   "cell_type": "markdown",
   "metadata": {},
   "source": [
    "## Tokenization"
   ]
  },
  {
   "cell_type": "code",
   "execution_count": 5,
   "metadata": {},
   "outputs": [],
   "source": [
    "def tokenize(word_seqs, show_prints = SHOW_PRINTS, filter_list = FILTER_LIST, max_vocab_size = MAX_VOCAB_SIZE):\n",
    "    \n",
    "    if show_prints == True:\n",
    "        print('Tokenizing...')\n",
    "    \n",
    "    tokenizer = Tokenizer(num_words = max_vocab_size, filters = filter_list)\n",
    "    tokenizer.fit_on_texts(word_seqs) # Why don't we just use the list of headline+body strings?\n",
    "    \n",
    "    if show_prints == True:\n",
    "        print('Done.')\n",
    "    \n",
    "    return tokenizer"
   ]
  },
  {
   "cell_type": "code",
   "execution_count": 6,
   "metadata": {},
   "outputs": [],
   "source": [
    "def wrangle_data(train_word_seqs, test_word_seqs, train_head_lengths, test_head_lengths, tokenizer, show_prints = SHOW_PRINTS, max_sent_len = MAX_SENT_LEN):\n",
    "    \n",
    "    if show_prints == True:\n",
    "        print('Converting word sequences to integer sequences...')\n",
    "    \n",
    "    X_train = tokenizer.texts_to_sequences([' '.join(seq[:max_sent_len]) for seq in train_word_seqs])\n",
    "    X_test = tokenizer.texts_to_sequences([' '.join(seq[:max_sent_len]) for seq in test_word_seqs])\n",
    "    \n",
    "    if show_prints == True:\n",
    "        print('Creating padded arrays of integers...')\n",
    "    \n",
    "    X_train = pad_sequences(X_train, maxlen = max_sent_len, padding = 'post', truncating = 'post')\n",
    "    X_test = pad_sequences(X_test, maxlen = max_sent_len, padding = 'post', truncating = 'post')\n",
    "    \n",
    "    if show_prints == True:\n",
    "        print('Setting aside heading part of the arrays...')\n",
    "    \n",
    "    X_train_heads = []\n",
    "    X_test_heads = []\n",
    "    \n",
    "    for i in range(len(X_train)): # len(myarray) is number of rows\n",
    "        X_train_heads.append(list(X_train[i][:train_head_lengths[i]]))\n",
    "    \n",
    "    for i in range(len(X_test)): # len(myarray) is number of rows\n",
    "        X_test_heads.append(list(X_test[i][:test_head_lengths[i]]))\n",
    "    \n",
    "    if show_prints == True:\n",
    "        print('Done.')\n",
    "    \n",
    "    return X_train, X_test, X_train_heads, X_test_heads\n",
    "\n",
    "\n",
    "# The following use of the LabelEncoder() is sort of overkill\n",
    "# since y_transform will just end up being (more or less) the \n",
    "# transpose of y_train, up to permutation, depending on the\n",
    "# order that the stances first appear in the corpus. This is\n",
    "# because of the way we've replaced the \"stance\" values with\n",
    "# 0,1,2, or 3. It would be fine to just keep them the same\n",
    "# instead of possibly permuting them here with the label encoder..."
   ]
  },
  {
   "cell_type": "code",
   "execution_count": 7,
   "metadata": {},
   "outputs": [],
   "source": [
    "def one_hot(y_train): # For some reason only works on first run, unless this function is redefined between runs.\n",
    "    le = LabelEncoder()\n",
    "    le.fit(y_train)\n",
    "    y_transform = le.transform(y_train)\n",
    "    one_hot = np_utils.to_categorical(y_transform)\n",
    "    return one_hot\n"
   ]
  },
  {
   "cell_type": "code",
   "execution_count": 8,
   "metadata": {},
   "outputs": [],
   "source": [
    "# The following function does all this stuff at once.\n",
    "\n",
    "def prepare_data(data_dir = DATA_DIR, show_prints = SHOW_PRINTS, filter_list = FILTER_LIST, max_vocab_size = MAX_VOCAB_SIZE, max_sent_len = MAX_SENT_LEN):\n",
    "    train_combined, test_combined = load_data(data_dir, show_prints)\n",
    "    train_word_seqs, test_word_seqs, train_head_lengths, test_head_lengths = sequence_words(train_combined, test_combined, show_prints, filter_list)\n",
    "    \n",
    "    word_seqs = train_word_seqs + test_word_seqs\n",
    "    head_lengths = train_head_lengths + test_head_lengths\n",
    "    \n",
    "    #tokenizer = tokenize(word_seqs, show_prints, filter_list, max_vocab_size)\n",
    "    tokenizer = tokenize(word_seqs)\n",
    "    \n",
    "    X_train, X_test, X_train_heads, X_test_heads = wrangle_data(train_word_seqs, test_word_seqs, train_head_lengths, test_head_lengths, tokenizer, show_prints, max_sent_len)\n",
    "    \n",
    "    y_train = train_combined['Stance'].tolist()\n",
    "    #one_hot = one_hot(y_train) # the one_hot() function only works on the first run\n",
    "    # unless you rerun this cell, which redefines one_hot(). Works fine if you copy\n",
    "    # the contents of the one_hot() function directly into the code, as below:\n",
    "    \n",
    "    le = LabelEncoder()\n",
    "    le.fit(y_train)\n",
    "    y_transform = le.transform(y_train)\n",
    "    one_hot = np_utils.to_categorical(y_transform)\n",
    "    \n",
    "    # end of the one_hot() function...\n",
    "    \n",
    "    if show_prints == True:\n",
    "        print('Done preparing data.')\n",
    "    \n",
    "    return X_train, X_test, X_train_heads, X_test_heads, one_hot, tokenizer\n",
    "    "
   ]
  },
  {
   "cell_type": "code",
   "execution_count": 9,
   "metadata": {},
   "outputs": [
    {
     "name": "stdout",
     "output_type": "stream",
     "text": [
      "Loading data to dataframes...\n",
      "Joining content and stance dataframes...\n",
      "Done.\n",
      "Pairing headlines with bodies...\n",
      "Creating word sequences...\n",
      "Done.\n",
      "Tokenizing...\n",
      "Done.\n",
      "Converting word sequences to integer sequences...\n",
      "Creating padded arrays of integers...\n",
      "Setting aside heading part of the arrays...\n",
      "Done.\n",
      "Done preparing data.\n"
     ]
    }
   ],
   "source": [
    "# Try doing it all at once:\n",
    "X_train, X_test, X_train_heads, X_test_heads, one_hot, tokenizer = prepare_data()"
   ]
  },
  {
   "cell_type": "markdown",
   "metadata": {},
   "source": [
    "## Build embedding matrix"
   ]
  },
  {
   "cell_type": "code",
   "execution_count": 10,
   "metadata": {},
   "outputs": [],
   "source": [
    "# Build model functions\n",
    "\n",
    "# To create word2vec from glove file, use:\n",
    "# glove2word2vec(GloVe_PATH, W2V_PATH)\n",
    "\n",
    "def build_embeddings_matrix(tokenizer):\n",
    "    global W2V_PATH, EMBEDDING_DIM\n",
    "    \n",
    "    embeddings = gensim.models.KeyedVectors.load_word2vec_format(W2V_PATH, binary=False)\n",
    "    \n",
    "    embeddings_matrix = np.random.uniform(-0.05, 0.05, size=(len(tokenizer.word_index)+1, EMBEDDING_DIM)) # +1 is because the matrix indices start with 0\n",
    "    for word, i in tokenizer.word_index.items(): # i=0 is the embedding for the zero padding\n",
    "        try:\n",
    "            embeddings_vector = embeddings[word]\n",
    "        except KeyError:\n",
    "            embeddings_vector = None\n",
    "            #none: if words in sentence don't have pre-trained corresponding embedding, then error occurs\n",
    "\n",
    "        if embeddings_vector is not None:\n",
    "            embeddings_matrix[i] = embeddings_vector\n",
    "            #if pre-trained word embedding exists，then let embeddings_matrix[i] is this embedding\n",
    "            #Wi:the ith row of embeddings_matrix\n",
    "\n",
    "    del embeddings\n",
    "    return embeddings_matrix"
   ]
  },
  {
   "cell_type": "markdown",
   "metadata": {},
   "source": [
    "# Build & Train model_1"
   ]
  },
  {
   "cell_type": "code",
   "execution_count": 14,
   "metadata": {},
   "outputs": [],
   "source": [
    "def build_model_1(embeddings_matrix, tokenizer):\n",
    "    global EMBEDDING_DIM, LSTM_DIM\n",
    "    \n",
    "    model_1 = Sequential()\n",
    "    model_1.add(Embedding(input_dim=len(tokenizer.word_index)+1,\n",
    "                              output_dim=EMBEDDING_DIM,\n",
    "                              weights = [embeddings_matrix], trainable=True, name='word_embedding_layer', #False\n",
    "                              mask_zero=True))\n",
    "    #mask_zero is to deal with padding problem\n",
    "    #model.add(Bidirectional(LSTM(LSTM_DIM, return_sequences=False, name='lstm_layer1'))) #bi(lstm)\n",
    "    model_1.add(Bidirectional(LSTM(LSTM_DIM, return_sequences=False, name='Bidrectional_lstm_layer1')))\n",
    "    model_1.add(Dropout(rate=0.8, name='dropout_1')) # Can try varying dropout rates, in paper suggest 0.8\n",
    "    model_1.add(Dense(4, activation='softmax', name='output_layer'))\n",
    "    model_1.compile(loss='categorical_crossentropy',\n",
    "              optimizer='adam',\n",
    "              metrics=['accuracy'])\n",
    "    \n",
    "    return model_1"
   ]
  },
  {
   "cell_type": "code",
   "execution_count": 12,
   "metadata": {},
   "outputs": [],
   "source": [
    "# The following function does the training and takes a really long time. \n",
    "# Should've added callbacks. Save after!!!\n",
    "\n",
    "def train_model(model, X_train, one_hot, model_number = '1', save = True):\n",
    "    global BATCH_SIZE, N_EPOCHS\n",
    "    \n",
    "    history = model.fit(X_train, one_hot,\n",
    "          batch_size=BATCH_SIZE,\n",
    "          epochs=N_EPOCHS,\n",
    "          validation_split = 0.2)\n",
    "    \n",
    "    model_trained = model\n",
    "    \n",
    "    if save == True:\n",
    "        model_trained.save('model_' + model_number) # saves as a directory with stuff in it\n",
    "        #model_trained.save('model_' + model_number + 'as_file.h5') # saves as a single model file\n",
    "    \n",
    "    return model_trained, history"
   ]
  },
  {
   "cell_type": "code",
   "execution_count": 13,
   "metadata": {},
   "outputs": [],
   "source": [
    "embeddings_matrix = build_embeddings_matrix(tokenizer)"
   ]
  },
  {
   "cell_type": "code",
   "execution_count": 15,
   "metadata": {},
   "outputs": [],
   "source": [
    "model_1 = build_model_1(embeddings_matrix, tokenizer)"
   ]
  },
  {
   "cell_type": "code",
   "execution_count": 16,
   "metadata": {},
   "outputs": [
    {
     "name": "stdout",
     "output_type": "stream",
     "text": [
      "Model: \"sequential\"\n",
      "_________________________________________________________________\n",
      "Layer (type)                 Output Shape              Param #   \n",
      "=================================================================\n",
      "word_embedding_layer (Embedd (None, None, 50)          1681200   \n",
      "_________________________________________________________________\n",
      "bidirectional (Bidirectional (None, 200)               120800    \n",
      "_________________________________________________________________\n",
      "dropout_1 (Dropout)          (None, 200)               0         \n",
      "_________________________________________________________________\n",
      "output_layer (Dense)         (None, 4)                 804       \n",
      "=================================================================\n",
      "Total params: 1,802,804\n",
      "Trainable params: 1,802,804\n",
      "Non-trainable params: 0\n",
      "_________________________________________________________________\n"
     ]
    }
   ],
   "source": [
    "model_1.summary()"
   ]
  },
  {
   "cell_type": "code",
   "execution_count": 49,
   "metadata": {},
   "outputs": [
    {
     "data": {
      "image/png": "[encoded data removed]",
      "text/plain": [
       "<IPython.core.display.Image object>"
      ]
     },
     "execution_count": 49,
     "metadata": {},
     "output_type": "execute_result"
    }
   ],
   "source": [
    "plot_model(model_1, to_file='model_1.png',show_shapes=False)"
   ]
  },
  {
   "cell_type": "code",
   "execution_count": 19,
   "metadata": {},
   "outputs": [
    {
     "name": "stdout",
     "output_type": "stream",
     "text": [
      "Epoch 1/40\n",
      "313/313 [==============================] - 160s 513ms/step - loss: 0.7666 - accuracy: 0.7350 - val_loss: 0.6488 - val_accuracy: 0.7661\n",
      "Epoch 2/40\n",
      "313/313 [==============================] - 145s 462ms/step - loss: 0.6099 - accuracy: 0.7798 - val_loss: 0.5088 - val_accuracy: 0.8110\n",
      "Epoch 3/40\n",
      "313/313 [==============================] - 147s 468ms/step - loss: 0.4807 - accuracy: 0.8253 - val_loss: 0.4218 - val_accuracy: 0.8383\n",
      "Epoch 4/40\n",
      "313/313 [==============================] - 147s 469ms/step - loss: 0.4039 - accuracy: 0.8511 - val_loss: 0.3645 - val_accuracy: 0.8614\n",
      "Epoch 5/40\n",
      "313/313 [==============================] - 146s 468ms/step - loss: 0.3410 - accuracy: 0.8701 - val_loss: 0.3335 - val_accuracy: 0.8723\n",
      "Epoch 6/40\n",
      "313/313 [==============================] - 146s 467ms/step - loss: 0.2938 - accuracy: 0.8893 - val_loss: 0.2932 - val_accuracy: 0.8861\n",
      "Epoch 7/40\n",
      "313/313 [==============================] - 149s 477ms/step - loss: 0.2546 - accuracy: 0.9028 - val_loss: 0.2673 - val_accuracy: 0.8972\n",
      "Epoch 8/40\n",
      "313/313 [==============================] - 146s 466ms/step - loss: 0.2308 - accuracy: 0.9135 - val_loss: 0.2578 - val_accuracy: 0.9011\n",
      "Epoch 9/40\n",
      "313/313 [==============================] - 339s 1s/step - loss: 0.1961 - accuracy: 0.9260 - val_loss: 0.2427 - val_accuracy: 0.9125\n",
      "Epoch 10/40\n",
      "313/313 [==============================] - 514s 2s/step - loss: 0.1718 - accuracy: 0.9353 - val_loss: 0.2174 - val_accuracy: 0.9194\n",
      "Epoch 11/40\n",
      "313/313 [==============================] - 537s 2s/step - loss: 0.1502 - accuracy: 0.9427 - val_loss: 0.2160 - val_accuracy: 0.9227\n",
      "Epoch 12/40\n",
      "313/313 [==============================] - 572s 2s/step - loss: 0.1327 - accuracy: 0.9501 - val_loss: 0.2119 - val_accuracy: 0.9244\n",
      "Epoch 13/40\n",
      "313/313 [==============================] - 505s 2s/step - loss: 0.1192 - accuracy: 0.9548 - val_loss: 0.2019 - val_accuracy: 0.9248\n",
      "Epoch 14/40\n",
      "313/313 [==============================] - 496s 2s/step - loss: 0.1087 - accuracy: 0.9595 - val_loss: 0.2118 - val_accuracy: 0.9288\n",
      "Epoch 15/40\n",
      "313/313 [==============================] - 551s 2s/step - loss: 0.0946 - accuracy: 0.9652 - val_loss: 0.1863 - val_accuracy: 0.9383\n",
      "Epoch 16/40\n",
      "313/313 [==============================] - 470s 2s/step - loss: 0.0842 - accuracy: 0.9686 - val_loss: 0.1826 - val_accuracy: 0.9367\n",
      "Epoch 17/40\n",
      "313/313 [==============================] - 519s 2s/step - loss: 0.0791 - accuracy: 0.9708 - val_loss: 0.2071 - val_accuracy: 0.9385\n",
      "Epoch 18/40\n",
      "313/313 [==============================] - 178s 570ms/step - loss: 0.0745 - accuracy: 0.9724 - val_loss: 0.2069 - val_accuracy: 0.9353\n",
      "Epoch 19/40\n",
      "313/313 [==============================] - 178s 568ms/step - loss: 0.0655 - accuracy: 0.9757 - val_loss: 0.2061 - val_accuracy: 0.9397\n",
      "Epoch 20/40\n",
      "313/313 [==============================] - 170s 544ms/step - loss: 0.0569 - accuracy: 0.9792 - val_loss: 0.1984 - val_accuracy: 0.9416\n",
      "Epoch 21/40\n",
      "313/313 [==============================] - 240s 768ms/step - loss: 0.0581 - accuracy: 0.9790 - val_loss: 0.2097 - val_accuracy: 0.9416\n",
      "Epoch 22/40\n",
      "313/313 [==============================] - 232s 742ms/step - loss: 0.0534 - accuracy: 0.9810 - val_loss: 0.2157 - val_accuracy: 0.9387\n",
      "Epoch 23/40\n",
      "313/313 [==============================] - 167s 532ms/step - loss: 0.0539 - accuracy: 0.9795 - val_loss: 0.2087 - val_accuracy: 0.9455\n",
      "Epoch 24/40\n",
      "313/313 [==============================] - 154s 492ms/step - loss: 0.0468 - accuracy: 0.9824 - val_loss: 0.2123 - val_accuracy: 0.9432\n",
      "Epoch 25/40\n",
      "313/313 [==============================] - 187s 598ms/step - loss: 0.0430 - accuracy: 0.9840 - val_loss: 0.2049 - val_accuracy: 0.9474\n",
      "Epoch 26/40\n",
      "313/313 [==============================] - 300s 959ms/step - loss: 0.0415 - accuracy: 0.9848 - val_loss: 0.2272 - val_accuracy: 0.9443\n",
      "Epoch 27/40\n",
      "313/313 [==============================] - 180s 575ms/step - loss: 0.0433 - accuracy: 0.9844 - val_loss: 0.2152 - val_accuracy: 0.9460\n",
      "Epoch 28/40\n",
      "313/313 [==============================] - 221s 707ms/step - loss: 0.0367 - accuracy: 0.9869 - val_loss: 0.2486 - val_accuracy: 0.9455\n",
      "Epoch 29/40\n",
      "313/313 [==============================] - 239s 765ms/step - loss: 0.0435 - accuracy: 0.9845 - val_loss: 0.2353 - val_accuracy: 0.9487\n",
      "Epoch 30/40\n",
      "313/313 [==============================] - 239s 763ms/step - loss: 0.0347 - accuracy: 0.9876 - val_loss: 0.2275 - val_accuracy: 0.9457\n",
      "Epoch 31/40\n",
      "313/313 [==============================] - 237s 757ms/step - loss: 0.0345 - accuracy: 0.9875 - val_loss: 0.2406 - val_accuracy: 0.9477\n",
      "Epoch 32/40\n",
      "313/313 [==============================] - 264s 845ms/step - loss: 0.0313 - accuracy: 0.9884 - val_loss: 0.2257 - val_accuracy: 0.9480\n",
      "Epoch 33/40\n",
      "313/313 [==============================] - 241s 769ms/step - loss: 0.0307 - accuracy: 0.9890 - val_loss: 0.2533 - val_accuracy: 0.9471\n",
      "Epoch 34/40\n",
      "313/313 [==============================] - 215s 685ms/step - loss: 0.0320 - accuracy: 0.9884 - val_loss: 0.2250 - val_accuracy: 0.9504\n",
      "Epoch 35/40\n",
      "313/313 [==============================] - 234s 749ms/step - loss: 0.0296 - accuracy: 0.9894 - val_loss: 0.2354 - val_accuracy: 0.9512\n",
      "Epoch 36/40\n",
      "313/313 [==============================] - 247s 790ms/step - loss: 0.0269 - accuracy: 0.9899 - val_loss: 0.2470 - val_accuracy: 0.9512\n",
      "Epoch 37/40\n",
      "313/313 [==============================] - 230s 736ms/step - loss: 0.0288 - accuracy: 0.9900 - val_loss: 0.2606 - val_accuracy: 0.9481\n",
      "Epoch 38/40\n",
      "313/313 [==============================] - 244s 778ms/step - loss: 0.0302 - accuracy: 0.9888 - val_loss: 0.2498 - val_accuracy: 0.9473\n",
      "Epoch 39/40\n",
      "313/313 [==============================] - 235s 750ms/step - loss: 0.0290 - accuracy: 0.9900 - val_loss: 0.2276 - val_accuracy: 0.9500\n",
      "Epoch 40/40\n",
      "313/313 [==============================] - 218s 696ms/step - loss: 0.0277 - accuracy: 0.9896 - val_loss: 0.2380 - val_accuracy: 0.9492\n",
      "WARNING:tensorflow:From /Users/karen/anaconda3/lib/python3.7/site-packages/tensorflow/python/ops/resource_variable_ops.py:1817: calling BaseResourceVariable.__init__ (from tensorflow.python.ops.resource_variable_ops) with constraint is deprecated and will be removed in a future version.\n",
      "Instructions for updating:\n",
      "If using Keras pass *_constraint arguments to layers.\n",
      "INFO:tensorflow:Assets written to: model_1/assets\n"
     ]
    }
   ],
   "source": [
    "model_1_trained,history_1 = train_model(model_1, X_train, one_hot)"
   ]
  },
  {
   "cell_type": "code",
   "execution_count": null,
   "metadata": {},
   "outputs": [],
   "source": [
    "LABELS = {'unrelated':0,'agree':1,'disagree':2,'discuss':3}\n",
    "\n",
    "y_test_stances = pd.read_csv(os.path.join(DATA_DIR,'competition_test_stances.csv'))\n",
    "y = y_test_stances['Stance']\n",
    "y_test = []\n",
    "for item in y:\n",
    "    y_test.append(LABELS[item])\n",
    "\n",
    "    \n",
    "\n",
    "le = LabelEncoder()\n",
    "le.fit(y_test)\n",
    "y_transform = le.transform(y_test)\n",
    "y_test_oh = np_utils.to_categorical(y_transform)\n",
    "    "
   ]
  },
  {
   "cell_type": "code",
   "execution_count": null,
   "metadata": {},
   "outputs": [],
   "source": []
  },
  {
   "cell_type": "code",
   "execution_count": 37,
   "metadata": {},
   "outputs": [
    {
     "data": {
      "image/png": "[encoded data removed]",
      "text/plain": [
       "<Figure size 432x288 with 1 Axes>"
      ]
     },
     "metadata": {
      "needs_background": "light"
     },
     "output_type": "display_data"
    }
   ],
   "source": [
    "plt.plot(history_1.history['accuracy'])\n",
    "plt.plot(history_1.history['val_accuracy'])\n",
    "plt.title('model accuracy')\n",
    "plt.ylabel('Accuracy')\n",
    "plt.xlabel('Epoch')\n",
    "plt.legend(['train', 'test'], loc='upper left')\n",
    "plt.show()"
   ]
  },
  {
   "cell_type": "code",
   "execution_count": null,
   "metadata": {},
   "outputs": [],
   "source": [
    "plt.plot(history_1.history['loss'])\n",
    "plt.plot(history_1.history['val_loss'])\n",
    "plt.title('model loss')\n",
    "plt.ylabel('Loss')\n",
    "plt.xlabel('Epoch')\n",
    "plt.legend(['train', 'test'], loc='upper left')\n",
    "plt.show()"
   ]
  },
  {
   "cell_type": "markdown",
   "metadata": {},
   "source": [
    "# Build & Train model_2"
   ]
  },
  {
   "cell_type": "code",
   "execution_count": null,
   "metadata": {},
   "outputs": [],
   "source": []
  },
  {
   "cell_type": "code",
   "execution_count": 30,
   "metadata": {},
   "outputs": [],
   "source": [
    "\n",
    "# attention layer is from: \n",
    "# https://stackoverflow.com/questions/62948332/how-to-add-attention-layer-to-a-bi-lstm/62949137#62949137\n",
    "        \n",
    "class Attention(Layer):\n",
    "    \n",
    "    def __init__(self, return_sequences=True):\n",
    "        self.return_sequences = return_sequences\n",
    "        super(Attention,self).__init__()\n",
    "        \n",
    "    def build(self, input_shape):\n",
    "        \n",
    "        self.W=self.add_weight(name=\"att_weight\", shape=(input_shape[-1],1),\n",
    "                               initializer=\"normal\")\n",
    "        self.b=self.add_weight(name=\"att_bias\", shape=(input_shape[1],1),\n",
    "                               initializer=\"zeros\")\n",
    "        \n",
    "        super(Attention,self).build(input_shape)\n",
    "        \n",
    "    def call(self, x):\n",
    "        \n",
    "        e = K.tanh(K.dot(x,self.W)+self.b)\n",
    "        a = K.softmax(e, axis=1)\n",
    "        output = x*a\n",
    "        \n",
    "        if self.return_sequences:\n",
    "            return output\n",
    "        \n",
    "        return K.sum(output, axis=1)"
   ]
  },
  {
   "cell_type": "code",
   "execution_count": 31,
   "metadata": {},
   "outputs": [],
   "source": [
    "def build_model_2(embeddings_matrix, tokenizer):\n",
    "\n",
    "    global EMBEDDING_DIM, LSTM_DIM, MAX_SENT_LEN\n",
    "\n",
    "    # Build a sequential model by stacking neural net units \n",
    "    # Dense layer: simply a layer connect units \n",
    "    # Dropout layer: for reduce overfitting a regularization methhod\n",
    "    model_2 = Sequential()\n",
    "    model_2.add(Embedding(input_dim=len(tokenizer.word_index)+1, input_length = MAX_SENT_LEN,\n",
    "                              output_dim=EMBEDDING_DIM,\n",
    "                              weights = [embeddings_matrix], trainable= True, name='word_embedding_layer', \n",
    "                              mask_zero=True)) # trainable=True results in overfitting\n",
    "\n",
    "    model_2.add(LSTM(LSTM_DIM, return_sequences=True, name='lstm_layer')) # Can try Bidirectional-LSTM\n",
    "    model_2.add(Dropout(rate=0.2, name='dropout_1')) # Can try varying dropout rates, in paper suggest 0.2\n",
    "    #model.add(Activation(activation='relu', name='activation_1'))\n",
    "    #output (batch_size, timesteps, input_dim)\n",
    "    model_2.add(Attention(return_sequences = False))\n",
    "    model_2.add(Dense(4, activation='softmax', name='output_layer'))\n",
    "    \n",
    "    model_2.compile(loss='categorical_crossentropy',\n",
    "              optimizer='adam',\n",
    "              metrics=['accuracy'])\n",
    "     \n",
    "    return model_2"
   ]
  },
  {
   "cell_type": "code",
   "execution_count": 33,
   "metadata": {},
   "outputs": [],
   "source": [
    "model_2 = build_model_2(embeddings_matrix, tokenizer)"
   ]
  },
  {
   "cell_type": "code",
   "execution_count": 34,
   "metadata": {},
   "outputs": [
    {
     "name": "stdout",
     "output_type": "stream",
     "text": [
      "Model: \"sequential_1\"\n",
      "_________________________________________________________________\n",
      "Layer (type)                 Output Shape              Param #   \n",
      "=================================================================\n",
      "word_embedding_layer (Embedd (None, 150, 50)           1681200   \n",
      "_________________________________________________________________\n",
      "lstm_layer (LSTM)            (None, 150, 100)          60400     \n",
      "_________________________________________________________________\n",
      "dropout_1 (Dropout)          (None, 150, 100)          0         \n",
      "_________________________________________________________________\n",
      "attention (Attention)        (None, 100)               250       \n",
      "_________________________________________________________________\n",
      "output_layer (Dense)         (None, 4)                 404       \n",
      "=================================================================\n",
      "Total params: 1,742,254\n",
      "Trainable params: 1,742,254\n",
      "Non-trainable params: 0\n",
      "_________________________________________________________________\n"
     ]
    }
   ],
   "source": [
    "model_2.summary()"
   ]
  },
  {
   "cell_type": "code",
   "execution_count": 35,
   "metadata": {},
   "outputs": [
    {
     "data": {
      "image/png": "[encoded data removed]",
      "text/plain": [
       "<IPython.core.display.Image object>"
      ]
     },
     "execution_count": 35,
     "metadata": {},
     "output_type": "execute_result"
    }
   ],
   "source": [
    "plot_model(model_2, to_file='model_2.png',show_shapes=False)"
   ]
  },
  {
   "cell_type": "code",
   "execution_count": 36,
   "metadata": {},
   "outputs": [
    {
     "name": "stdout",
     "output_type": "stream",
     "text": [
      "Epoch 1/40\n",
      "313/313 [==============================] - 162s 518ms/step - loss: 0.7548 - accuracy: 0.7355 - val_loss: 0.6805 - val_accuracy: 0.7452\n",
      "Epoch 2/40\n",
      "313/313 [==============================] - 155s 496ms/step - loss: 0.5886 - accuracy: 0.7863 - val_loss: 0.5266 - val_accuracy: 0.8115\n",
      "Epoch 3/40\n",
      "313/313 [==============================] - 128s 408ms/step - loss: 0.4663 - accuracy: 0.8266 - val_loss: 0.4532 - val_accuracy: 0.8282\n",
      "Epoch 4/40\n",
      "313/313 [==============================] - 118s 378ms/step - loss: 0.3924 - accuracy: 0.8517 - val_loss: 0.4202 - val_accuracy: 0.8399\n",
      "Epoch 5/40\n",
      "313/313 [==============================] - 130s 414ms/step - loss: 0.3400 - accuracy: 0.8725 - val_loss: 0.3642 - val_accuracy: 0.8638\n",
      "Epoch 6/40\n",
      "313/313 [==============================] - 132s 422ms/step - loss: 0.2991 - accuracy: 0.8844 - val_loss: 0.3441 - val_accuracy: 0.8684\n",
      "Epoch 7/40\n",
      "313/313 [==============================] - 135s 431ms/step - loss: 0.2651 - accuracy: 0.8963 - val_loss: 0.2962 - val_accuracy: 0.8854\n",
      "Epoch 8/40\n",
      "313/313 [==============================] - 122s 391ms/step - loss: 0.2323 - accuracy: 0.9084 - val_loss: 0.2866 - val_accuracy: 0.8890\n",
      "Epoch 9/40\n",
      "313/313 [==============================] - 118s 376ms/step - loss: 0.2063 - accuracy: 0.9182 - val_loss: 0.2868 - val_accuracy: 0.8900\n",
      "Epoch 10/40\n",
      "313/313 [==============================] - 117s 374ms/step - loss: 0.1893 - accuracy: 0.9264 - val_loss: 0.2689 - val_accuracy: 0.8963\n",
      "Epoch 11/40\n",
      "313/313 [==============================] - 117s 372ms/step - loss: 0.1651 - accuracy: 0.9358 - val_loss: 0.2436 - val_accuracy: 0.9090\n",
      "Epoch 12/40\n",
      "313/313 [==============================] - 126s 401ms/step - loss: 0.1487 - accuracy: 0.9438 - val_loss: 0.2408 - val_accuracy: 0.9145\n",
      "Epoch 13/40\n",
      "313/313 [==============================] - 121s 388ms/step - loss: 0.1378 - accuracy: 0.9475 - val_loss: 0.2425 - val_accuracy: 0.9160\n",
      "Epoch 14/40\n",
      "313/313 [==============================] - 116s 370ms/step - loss: 0.1244 - accuracy: 0.9510 - val_loss: 0.2259 - val_accuracy: 0.9221\n",
      "Epoch 15/40\n",
      "313/313 [==============================] - 127s 407ms/step - loss: 0.1058 - accuracy: 0.9597 - val_loss: 0.2302 - val_accuracy: 0.9215\n",
      "Epoch 16/40\n",
      "313/313 [==============================] - 126s 404ms/step - loss: 0.0935 - accuracy: 0.9638 - val_loss: 0.2211 - val_accuracy: 0.9263\n",
      "Epoch 17/40\n",
      "313/313 [==============================] - 138s 441ms/step - loss: 0.0868 - accuracy: 0.9672 - val_loss: 0.2234 - val_accuracy: 0.9319\n",
      "Epoch 18/40\n",
      "313/313 [==============================] - 119s 379ms/step - loss: 0.0802 - accuracy: 0.9691 - val_loss: 0.2315 - val_accuracy: 0.9293\n",
      "Epoch 19/40\n",
      "313/313 [==============================] - 131s 418ms/step - loss: 0.0733 - accuracy: 0.9728 - val_loss: 0.2172 - val_accuracy: 0.9372\n",
      "Epoch 20/40\n",
      "313/313 [==============================] - 121s 386ms/step - loss: 0.0694 - accuracy: 0.9740 - val_loss: 0.2442 - val_accuracy: 0.9287\n",
      "Epoch 21/40\n",
      "313/313 [==============================] - 130s 416ms/step - loss: 0.0661 - accuracy: 0.9749 - val_loss: 0.2165 - val_accuracy: 0.9350\n",
      "Epoch 22/40\n",
      "313/313 [==============================] - 129s 412ms/step - loss: 0.0578 - accuracy: 0.9781 - val_loss: 0.2143 - val_accuracy: 0.9375\n",
      "Epoch 23/40\n",
      "313/313 [==============================] - 128s 408ms/step - loss: 0.0522 - accuracy: 0.9805 - val_loss: 0.2313 - val_accuracy: 0.9354\n",
      "Epoch 24/40\n",
      "313/313 [==============================] - 124s 396ms/step - loss: 0.0478 - accuracy: 0.9811 - val_loss: 0.2307 - val_accuracy: 0.9407\n",
      "Epoch 25/40\n",
      "313/313 [==============================] - 126s 402ms/step - loss: 0.0463 - accuracy: 0.9822 - val_loss: 0.2214 - val_accuracy: 0.9432\n",
      "Epoch 26/40\n",
      "313/313 [==============================] - 123s 393ms/step - loss: 0.0476 - accuracy: 0.9825 - val_loss: 0.2220 - val_accuracy: 0.9434\n",
      "Epoch 27/40\n",
      "313/313 [==============================] - 107s 341ms/step - loss: 0.0423 - accuracy: 0.9838 - val_loss: 0.2195 - val_accuracy: 0.9453\n",
      "Epoch 28/40\n",
      "313/313 [==============================] - 108s 346ms/step - loss: 0.0456 - accuracy: 0.9837 - val_loss: 0.2350 - val_accuracy: 0.9439\n",
      "Epoch 29/40\n",
      "313/313 [==============================] - 107s 342ms/step - loss: 0.0358 - accuracy: 0.9867 - val_loss: 0.2660 - val_accuracy: 0.9378\n",
      "Epoch 30/40\n",
      "313/313 [==============================] - 111s 353ms/step - loss: 0.0455 - accuracy: 0.9837 - val_loss: 0.2711 - val_accuracy: 0.9349\n",
      "Epoch 31/40\n",
      "313/313 [==============================] - 104s 334ms/step - loss: 0.0342 - accuracy: 0.9871 - val_loss: 0.2357 - val_accuracy: 0.9459\n",
      "Epoch 32/40\n",
      "313/313 [==============================] - 112s 359ms/step - loss: 0.0352 - accuracy: 0.9873 - val_loss: 0.2437 - val_accuracy: 0.9469\n",
      "Epoch 33/40\n",
      "313/313 [==============================] - 105s 335ms/step - loss: 0.0309 - accuracy: 0.9883 - val_loss: 0.2270 - val_accuracy: 0.9455\n",
      "Epoch 34/40\n",
      "313/313 [==============================] - 108s 344ms/step - loss: 0.0269 - accuracy: 0.9898 - val_loss: 0.2500 - val_accuracy: 0.9450\n",
      "Epoch 35/40\n",
      "313/313 [==============================] - 112s 359ms/step - loss: 0.0274 - accuracy: 0.9900 - val_loss: 0.2494 - val_accuracy: 0.9465\n",
      "Epoch 36/40\n",
      "313/313 [==============================] - 103s 328ms/step - loss: 0.0263 - accuracy: 0.9904 - val_loss: 0.2563 - val_accuracy: 0.9497\n",
      "Epoch 37/40\n",
      "313/313 [==============================] - 109s 348ms/step - loss: 0.0314 - accuracy: 0.9894 - val_loss: 0.2352 - val_accuracy: 0.9504\n",
      "Epoch 38/40\n",
      "313/313 [==============================] - 250s 800ms/step - loss: 0.0231 - accuracy: 0.9920 - val_loss: 0.2413 - val_accuracy: 0.9523\n",
      "Epoch 39/40\n",
      "313/313 [==============================] - 376s 1s/step - loss: 0.0208 - accuracy: 0.9926 - val_loss: 0.2495 - val_accuracy: 0.9484\n",
      "Epoch 40/40\n",
      "313/313 [==============================] - 400s 1s/step - loss: 0.0205 - accuracy: 0.9927 - val_loss: 0.2578 - val_accuracy: 0.9480\n",
      "INFO:tensorflow:Assets written to: model_1/assets\n"
     ]
    }
   ],
   "source": [
    "model_2_trained,history_2 = train_model(model_2, X_train, one_hot)"
   ]
  },
  {
   "cell_type": "code",
   "execution_count": 64,
   "metadata": {},
   "outputs": [
    {
     "name": "stdout",
     "output_type": "stream",
     "text": [
      "795/795 [==============================] - 46s 58ms/step - loss: 2.8890 - accuracy: 0.6355\n",
      "accuracy: 63.55%\n"
     ]
    }
   ],
   "source": [
    "scoress = model_2_trained.evaluate(X_test, y_test_oh)\n",
    "print(\"%s: %.2f%%\"%(model_2_trained.metrics_names[1], scoress[1]*100))"
   ]
  },
  {
   "cell_type": "code",
   "execution_count": 39,
   "metadata": {},
   "outputs": [
    {
     "data": {
      "image/png": "[encoded data removed]",
      "text/plain": [
       "<Figure size 432x288 with 1 Axes>"
      ]
     },
     "metadata": {
      "needs_background": "light"
     },
     "output_type": "display_data"
    }
   ],
   "source": [
    "plt.plot(history_2.history['accuracy'])\n",
    "plt.plot(history_2.history['val_accuracy'])\n",
    "plt.title('model accuracy')\n",
    "plt.ylabel('Accuracy')\n",
    "plt.xlabel('Epoch')\n",
    "plt.legend(['train', 'test'], loc='upper left')\n",
    "plt.show()"
   ]
  },
  {
   "cell_type": "code",
   "execution_count": 61,
   "metadata": {},
   "outputs": [
    {
     "data": {
      "image/png": "[encoded data removed]",
      "text/plain": [
       "<Figure size 432x288 with 1 Axes>"
      ]
     },
     "metadata": {
      "needs_background": "light"
     },
     "output_type": "display_data"
    }
   ],
   "source": [
    "plt.plot(history_2.history['loss'])\n",
    "plt.plot(history_2.history['val_loss'])\n",
    "plt.title('model loss')\n",
    "plt.ylabel('Loss')\n",
    "plt.xlabel('Epoch')\n",
    "plt.legend(['train', 'test'], loc='upper left')\n",
    "plt.show()"
   ]
  },
  {
   "cell_type": "code",
   "execution_count": 68,
   "metadata": {},
   "outputs": [
    {
     "name": "stdout",
     "output_type": "stream",
     "text": [
      "795/795 [==============================] - 33s 41ms/step - loss: 2.0371 - accuracy: 0.6907\n",
      "accuracy: 69.07%\n"
     ]
    }
   ],
   "source": [
    "scoress = model_1_trained.evaluate(X_test, y_test_oh)\n",
    "print(\"%s: %.2f%%\"%(model_1_trained.metrics_names[1], scoress[1]*100))"
   ]
  },
  {
   "cell_type": "code",
   "execution_count": 50,
   "metadata": {},
   "outputs": [],
   "source": [
    "def build_model_3(embeddings_matrix, tokenizer):\n",
    "\n",
    "    global EMBEDDING_DIM, LSTM_DIM, MAX_SENT_LEN\n",
    "\n",
    "    # Build a sequential model by stacking neural net units \n",
    "    # Dense layer: simply a layer connect units \n",
    "    # Dropout layer: for reduce overfitting a regularization methhod\n",
    "    model_3 = Sequential()\n",
    "    model_3.add(Embedding(input_dim=len(tokenizer.word_index)+1, input_length = MAX_SENT_LEN,\n",
    "                              output_dim=EMBEDDING_DIM,\n",
    "                              weights = [embeddings_matrix], trainable= True, name='word_embedding_layer', \n",
    "                              mask_zero=True)) # trainable=True results in overfitting\n",
    "    model_3.add(Dropout(0.2))\n",
    "    model_3.add(Conv1D(filters=32, kernel_size=5, padding='same', activation='relu'))\n",
    "    model_3.add(MaxPooling1D(pool_size=2))\n",
    "    model_3.add(Conv1D(filters=64, kernel_size=3, padding='same', activation='relu'))\n",
    "    model_3.add(MaxPooling1D(pool_size=2))\n",
    "    model_3.add(LSTM(100, dropout=0.2, recurrent_dropout=0.2))\n",
    "    model_3.add(BatchNormalization())\n",
    "    model_3.add(Dense(128, activation='relu'))\n",
    "    model_3.add(Dense(64, activation='relu'))\n",
    "    #modell.add(Dense(4, activation='softmax'))\n",
    "\n",
    "    #model_3.add(LSTM(LSTM_DIM, return_sequences=True, name='lstm_layer')) # Can try Bidirectional-LSTM\n",
    "    #model_3.add(Dropout(rate=0.8, name='dropout_1')) # Can try varying dropout rates, in paper suggest 0.2\n",
    "    #model.add(Activation(activation='relu', name='activation_1'))\n",
    "    #output (batch_size, timesteps, input_dim)\n",
    "    #model_3.add(Attention())\n",
    "    model_3.add(Dense(4, activation='softmax', name='output_layer'))\n",
    "    model_3.compile(loss='categorical_crossentropy',\n",
    "              optimizer='adam',\n",
    "              metrics=['accuracy'])\n",
    "\n",
    "    return model_3"
   ]
  },
  {
   "cell_type": "code",
   "execution_count": 51,
   "metadata": {},
   "outputs": [],
   "source": [
    "def train_model(model, X_train, one_hot, model_number = '1', save = True):\n",
    "    global BATCH_SIZE\n",
    "    \n",
    "    history = model.fit(X_train, one_hot,\n",
    "          batch_size=BATCH_SIZE,\n",
    "          epochs=5,\n",
    "          validation_split = 0.2)\n",
    "    \n",
    "    model_trained = model\n",
    "    \n",
    "    if save == True:\n",
    "        model_trained.save('model_' + model_number) # saves as a directory with stuff in it\n",
    "        #model_trained.save('model_' + model_number + 'as_file.h5') # saves as a single model file\n",
    "    \n",
    "    return model_trained, history"
   ]
  },
  {
   "cell_type": "code",
   "execution_count": 53,
   "metadata": {},
   "outputs": [],
   "source": [
    "model_3 = build_model_3(embeddings_matrix, tokenizer)"
   ]
  },
  {
   "cell_type": "code",
   "execution_count": 54,
   "metadata": {},
   "outputs": [
    {
     "name": "stdout",
     "output_type": "stream",
     "text": [
      "Epoch 1/5\n",
      "313/313 [==============================] - 113s 362ms/step - loss: 0.7989 - accuracy: 0.7232 - val_loss: 0.7744 - val_accuracy: 0.7330\n",
      "Epoch 2/5\n",
      "313/313 [==============================] - 114s 365ms/step - loss: 0.6855 - accuracy: 0.7479 - val_loss: 0.7125 - val_accuracy: 0.6807\n",
      "Epoch 3/5\n",
      "313/313 [==============================] - 95s 304ms/step - loss: 0.5636 - accuracy: 0.7829 - val_loss: 0.6476 - val_accuracy: 0.7289\n",
      "Epoch 4/5\n",
      "313/313 [==============================] - 98s 313ms/step - loss: 0.4700 - accuracy: 0.8159 - val_loss: 0.4837 - val_accuracy: 0.8237\n",
      "Epoch 5/5\n",
      "313/313 [==============================] - 98s 314ms/step - loss: 0.4063 - accuracy: 0.8410 - val_loss: 0.4572 - val_accuracy: 0.8138\n",
      "INFO:tensorflow:Assets written to: model_1/assets\n"
     ]
    }
   ],
   "source": [
    "model_3_trained,history_3 = train_model(model_3, X_train, one_hot)"
   ]
  },
  {
   "cell_type": "code",
   "execution_count": 60,
   "metadata": {},
   "outputs": [
    {
     "data": {
      "image/png": "[encoded data removed]",
      "text/plain": [
       "<Figure size 432x288 with 1 Axes>"
      ]
     },
     "metadata": {
      "needs_background": "light"
     },
     "output_type": "display_data"
    }
   ],
   "source": [
    "plt.plot(history_3.history['loss'])\n",
    "plt.plot(history_3.history['val_loss'])\n",
    "plt.title('model loss')\n",
    "plt.ylabel('Loss')\n",
    "plt.xlabel('Epoch')\n",
    "plt.legend(['train', 'test'], loc='upper left')\n",
    "plt.show()"
   ]
  },
  {
   "cell_type": "code",
   "execution_count": null,
   "metadata": {},
   "outputs": [],
   "source": []
  },
  {
   "cell_type": "code",
   "execution_count": null,
   "metadata": {},
   "outputs": [],
   "source": []
  },
  {
   "cell_type": "markdown",
   "metadata": {},
   "source": [
    "# Prediction stage"
   ]
  },
  {
   "cell_type": "code",
   "execution_count": 56,
   "metadata": {},
   "outputs": [],
   "source": [
    "def model_predict(model_trained, X_test, model_number = '1', csv = True):\n",
    "\n",
    "    global DATA_DIR\n",
    "    \n",
    "    preds = model_trained.predict(X_test)\n",
    "    outputs = [np.argmax(p) for p in preds]\n",
    "    \n",
    "    if csv == True:\n",
    "        test_stances = pd.read_csv(os.path.join(DATA_DIR,'competition_test_stances_unlabeled.csv'))\n",
    "    \n",
    "        for i in range(len(outputs)):\n",
    "            if outputs[i] == 0: outputs[i] = \"unrelated\"\n",
    "            if outputs[i] == 1: outputs[i] = \"disagree\"\n",
    "            if outputs[i] == 2: outputs[i] = \"agree\"\n",
    "            if outputs[i] == 3: outputs[i] = \"discuss\"\n",
    "            \n",
    "        df_predicted = {}\n",
    "        df_predicted = pd.DataFrame({'Stance': outputs})\n",
    "        result = pd.concat([test_stances, df_predicted], axis=1, sort=False)\n",
    "        result.to_csv('data/model_' + model_number + '_preds.csv', index=False, encoding='utf-8')\n",
    "    \n",
    "    return result"
   ]
  },
  {
   "cell_type": "code",
   "execution_count": 58,
   "metadata": {},
   "outputs": [],
   "source": [
    "result_3 = model_predict(model_3_trained, X_test, model_number = '3', csv = True)"
   ]
  },
  {
   "cell_type": "code",
   "execution_count": null,
   "metadata": {},
   "outputs": [],
   "source": []
  },
  {
   "cell_type": "code",
   "execution_count": null,
   "metadata": {},
   "outputs": [],
   "source": []
  },
  {
   "cell_type": "code",
   "execution_count": null,
   "metadata": {},
   "outputs": [],
   "source": []
  },
  {
   "cell_type": "code",
   "execution_count": null,
   "metadata": {},
   "outputs": [],
   "source": []
  },
  {
   "cell_type": "code",
   "execution_count": null,
   "metadata": {},
   "outputs": [],
   "source": []
  },
  {
   "cell_type": "code",
   "execution_count": null,
   "metadata": {},
   "outputs": [],
   "source": []
  },
  {
   "cell_type": "code",
   "execution_count": null,
   "metadata": {},
   "outputs": [],
   "source": []
  },
  {
   "cell_type": "code",
   "execution_count": null,
   "metadata": {},
   "outputs": [],
   "source": []
  }
 ],
 "metadata": {
  "kernelspec": {
   "display_name": "Python 3",
   "language": "python",
   "name": "python3"
  },
  "language_info": {
   "codemirror_mode": {
    "name": "ipython",
    "version": 3
   },
   "file_extension": ".py",
   "mimetype": "text/x-python",
   "name": "python",
   "nbconvert_exporter": "python",
   "pygments_lexer": "ipython3",
   "version": "3.7.3"
  }
 },
 "nbformat": 4,
 "nbformat_minor": 2
}
